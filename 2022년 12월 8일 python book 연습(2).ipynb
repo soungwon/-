{
 "cells": [
  {
   "cell_type": "code",
   "execution_count": 2,
   "id": "4e0c5fed",
   "metadata": {},
   "outputs": [
    {
     "name": "stdout",
     "output_type": "stream",
     "text": [
      "[1, 2, 3, 4, 5]\n",
      "[1, 2, 3, 6, 4, 5]\n"
     ]
    }
   ],
   "source": [
    "# insert() 함수로 데이터를 삽입하는 코드입니다.\n",
    "# 리스트.insert(값을 추가할 인덱스, 데이터)\n",
    "\n",
    "a = [1,2,3,4,5]\n",
    "print(a)\n",
    "\n",
    "a.insert(3,6) # 리스트 a의 인덱스 3에 숫자 6을 삽입합니다. 즉  4번째 값 자리에 6이 추가되어, 리스트 a는 [1,2,3,4,5,6] \n",
    "print(a)"
   ]
  },
  {
   "cell_type": "code",
   "execution_count": 4,
   "id": "2063fc3b",
   "metadata": {},
   "outputs": [
    {
     "name": "stdout",
     "output_type": "stream",
     "text": [
      "[1, 5, 7, 9]\n"
     ]
    }
   ],
   "source": [
    "# del 예약어로 데이터를 삭제하는 코드입니다.\n",
    "a = [1,3,5,7,9]\n",
    "del a[1]\n",
    "\n",
    "print(a)"
   ]
  },
  {
   "cell_type": "code",
   "execution_count": 6,
   "id": "63a9311c",
   "metadata": {},
   "outputs": [
    {
     "name": "stdout",
     "output_type": "stream",
     "text": [
      "[1, 3, 5, 9]\n"
     ]
    }
   ],
   "source": [
    "# remove() 함수로 특정 값을 찾아 삭제하는 코드입니다.\n",
    "a = [1,3,5,7,9]\n",
    "a.remove(7)\n",
    "print(a)"
   ]
  },
  {
   "cell_type": "code",
   "execution_count": 7,
   "id": "b8c66b46",
   "metadata": {},
   "outputs": [
    {
     "name": "stdout",
     "output_type": "stream",
     "text": [
      "[-1, 2, 3, 4, 6]\n"
     ]
    }
   ],
   "source": [
    "# sort() 함수는 리스트 안의 데이터를 작은 것부터 큰 것 순서대로 정렬합니다.\n",
    "a = [-1, 4, 2, 6, 3]\n",
    "a. sort()\n",
    "print(a)"
   ]
  },
  {
   "cell_type": "code",
   "execution_count": 9,
   "id": "dbfe888d",
   "metadata": {},
   "outputs": [
    {
     "name": "stdout",
     "output_type": "stream",
     "text": [
      "[3, 6, 2, 4, -1]\n"
     ]
    }
   ],
   "source": [
    "#reverse() 함수로 리스트 안의 데이터 순서를 거꾸로 바꾸는 코드입니다.\n",
    "a = [-1, 4, 2, 6, 3]\n",
    "a.reverse()\n",
    "print(a)"
   ]
  },
  {
   "cell_type": "code",
   "execution_count": 10,
   "id": "d0ba9d49",
   "metadata": {},
   "outputs": [
    {
     "name": "stdout",
     "output_type": "stream",
     "text": [
      "['아이언맨', '캡틴 아메리카', '토르', '헐크']\n"
     ]
    }
   ],
   "source": [
    "# 인덱스 1번('슈퍼맨')부터 2번('배트맨')까지 삭제됩니다. \n",
    "avengers = ['아이언맨' , '슈퍼맨' , '배트맨' , '캡틴 아메리카' , '토르' , '헐크']\n",
    "del avengers[1:3]\n",
    "print(avengers)"
   ]
  },
  {
   "cell_type": "code",
   "execution_count": 11,
   "id": "d32fc8af",
   "metadata": {},
   "outputs": [
    {
     "name": "stdout",
     "output_type": "stream",
     "text": [
      "['ant', 'black', 'captain', 'iron', 'spider']\n"
     ]
    }
   ],
   "source": [
    "a = ['captain' , 'iron' , 'black' , 'spider' , 'ant']\n",
    "a.sort()\n",
    "print(a)\n",
    "\n",
    "# sort() 함수는 기본적으로 리스트 안의 데이터를 오름차순으로 정렬합니다.\n",
    "# 숫자 뿐만 아니라 문자나 문자열도 정렬할 수 있습니다.\n",
    "# 영어는 알파벳순으로 정렬되므로 리스트 a의 출력결과는 a = ['captain' , 'iron' , 'black' , 'spider' , 'ant'] 이렇게 됩니다."
   ]
  },
  {
   "cell_type": "code",
   "execution_count": 14,
   "id": "0abb6e8c",
   "metadata": {},
   "outputs": [
    {
     "name": "stdout",
     "output_type": "stream",
     "text": [
      "['이', '차', '원']\n",
      "['리', '스', '트']\n"
     ]
    }
   ],
   "source": [
    "# 2차원 리스트를 생성하고 출력하는 코드입니다.\n",
    "\n",
    "array_2d = [[\"이\", \"차\", \"원\"], [\"리\", \"스\", \"트\"]]\n",
    "# 리스트 내부에 리스트를 저장해 2차원 리스트를 생성합니다. \n",
    "# array_2d의 인덱스 0에는 [\"이\", \"차\", \"원\"] , array_2d의 인덱스 1에는 [\"리\", \"스\", \"트\"]를 저장했습니다.\n",
    "\n",
    "for array in array_2d:\n",
    "# for 문으로 리스트 array_2d를 인덱스 0부터 반복합니다. 변수 array에 array_2d의 값이 저장됩니다.\n",
    "\n",
    "    print(array)\n",
    "    # array 변수에 저장된 값이 출력됩니다. array_2d의 값은 모두 리스트이므로 리스트 형태 그대로 출력됩니다."
   ]
  },
  {
   "cell_type": "markdown",
   "id": "75a0daa8",
   "metadata": {},
   "source": [
    "# 2차원 리스트는 일반적인 리스트와 마찬가지로 for 문과 궁합이 아주 좋습니다.                                                                                                                                                 두 개의 for 반복문을 중첩하여 리스트 안에 있는 리스트의 값까지 가져올수 있다."
   ]
  },
  {
   "cell_type": "code",
   "execution_count": null,
   "id": "e6f83c25",
   "metadata": {},
   "outputs": [],
   "source": []
  }
 ],
 "metadata": {
  "kernelspec": {
   "display_name": "Python 3 (ipykernel)",
   "language": "python",
   "name": "python3"
  },
  "language_info": {
   "codemirror_mode": {
    "name": "ipython",
    "version": 3
   },
   "file_extension": ".py",
   "mimetype": "text/x-python",
   "name": "python",
   "nbconvert_exporter": "python",
   "pygments_lexer": "ipython3",
   "version": "3.9.7"
  }
 },
 "nbformat": 4,
 "nbformat_minor": 5
}
