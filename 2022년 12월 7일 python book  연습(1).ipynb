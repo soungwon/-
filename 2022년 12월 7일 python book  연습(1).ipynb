{
 "cells": [
  {
   "cell_type": "code",
   "execution_count": 1,
   "id": "d7998e58",
   "metadata": {},
   "outputs": [
    {
     "name": "stdout",
     "output_type": "stream",
     "text": [
      "-10\n"
     ]
    },
    {
     "ename": "TypeError",
     "evalue": "'int' object is not callable",
     "output_type": "error",
     "traceback": [
      "\u001b[0;31m---------------------------------------------------------------------------\u001b[0m",
      "\u001b[0;31mTypeError\u001b[0m                                 Traceback (most recent call last)",
      "\u001b[0;32m/tmp/ipykernel_32/3890655213.py\u001b[0m in \u001b[0;36m<module>\u001b[0;34m\u001b[0m\n\u001b[1;32m      2\u001b[0m \u001b[0mprint\u001b[0m\u001b[0;34m(\u001b[0m\u001b[0mabs\u001b[0m\u001b[0;34m)\u001b[0m\u001b[0;34m\u001b[0m\u001b[0;34m\u001b[0m\u001b[0m\n\u001b[1;32m      3\u001b[0m \u001b[0;34m\u001b[0m\u001b[0m\n\u001b[0;32m----> 4\u001b[0;31m \u001b[0mabs_number\u001b[0m \u001b[0;34m=\u001b[0m \u001b[0mabs\u001b[0m\u001b[0;34m(\u001b[0m\u001b[0mabs\u001b[0m\u001b[0;34m)\u001b[0m\u001b[0;34m\u001b[0m\u001b[0;34m\u001b[0m\u001b[0m\n\u001b[0m\u001b[1;32m      5\u001b[0m \u001b[0mprint\u001b[0m\u001b[0;34m(\u001b[0m\u001b[0mabs_number\u001b[0m\u001b[0;34m)\u001b[0m\u001b[0;34m\u001b[0m\u001b[0;34m\u001b[0m\u001b[0m\n",
      "\u001b[0;31mTypeError\u001b[0m: 'int' object is not callable"
     ]
    }
   ],
   "source": [
    "abs = -10\n",
    "print(abs)\n",
    "\n",
    "abs_number = abs(abs)\n",
    "print(abs_number) #abs라는 이름의 함수를 호출하자 오류가 발생합니다. abs가 변수로 덮어씌워졌기 때문입니다."
   ]
  },
  {
   "cell_type": "code",
   "execution_count": 1,
   "id": "7077b1ed",
   "metadata": {},
   "outputs": [
    {
     "name": "stdout",
     "output_type": "stream",
     "text": [
      "-10\n",
      "10\n"
     ]
    }
   ],
   "source": [
    "number = -10\n",
    "print(number)\n",
    "\n",
    "abs_number = abs(number)\n",
    "print(abs_number)"
   ]
  },
  {
   "cell_type": "code",
   "execution_count": 2,
   "id": "2d71a04b",
   "metadata": {},
   "outputs": [
    {
     "ename": "SyntaxError",
     "evalue": "cannot assign to True (3607381929.py, line 1)",
     "output_type": "error",
     "traceback": [
      "\u001b[0;36m  File \u001b[0;32m\"/tmp/ipykernel_64/3607381929.py\"\u001b[0;36m, line \u001b[0;32m1\u001b[0m\n\u001b[0;31m    True = \"참\"\u001b[0m\n\u001b[0m    ^\u001b[0m\n\u001b[0;31mSyntaxError\u001b[0m\u001b[0;31m:\u001b[0m cannot assign to True\n"
     ]
    }
   ],
   "source": [
    "True = \"참\" #True를 변수 이름으로 사용하고 있습니다. 따라서 True라는 이름에 \n",
    "False = \"거짓\"\n",
    "def = \"함수\""
   ]
  },
  {
   "cell_type": "code",
   "execution_count": 3,
   "id": "10ebc100",
   "metadata": {},
   "outputs": [
    {
     "name": "stdout",
     "output_type": "stream",
     "text": [
      "여보세요\n"
     ]
    }
   ],
   "source": [
    "def call():\n",
    "    print(\"여보세요\")\n",
    "call()"
   ]
  },
  {
   "cell_type": "code",
   "execution_count": 4,
   "id": "4bb67fda",
   "metadata": {},
   "outputs": [
    {
     "ename": "NameError",
     "evalue": "name 'say' is not defined",
     "output_type": "error",
     "traceback": [
      "\u001b[0;31m---------------------------------------------------------------------------\u001b[0m",
      "\u001b[0;31mNameError\u001b[0m                                 Traceback (most recent call last)",
      "\u001b[0;32m/tmp/ipykernel_64/4039036142.py\u001b[0m in \u001b[0;36m<module>\u001b[0;34m\u001b[0m\n\u001b[0;32m----> 1\u001b[0;31m \u001b[0msay\u001b[0m\u001b[0;34m(\u001b[0m\u001b[0;34m)\u001b[0m\u001b[0;34m\u001b[0m\u001b[0;34m\u001b[0m\u001b[0m\n\u001b[0m\u001b[1;32m      2\u001b[0m \u001b[0;32mdef\u001b[0m \u001b[0msay\u001b[0m\u001b[0;34m(\u001b[0m\u001b[0;34m)\u001b[0m\u001b[0;34m:\u001b[0m\u001b[0;34m\u001b[0m\u001b[0;34m\u001b[0m\u001b[0m\n\u001b[1;32m      3\u001b[0m     \u001b[0mprint\u001b[0m\u001b[0;34m(\u001b[0m\u001b[0;34m\"안녕하세요!\"\u001b[0m\u001b[0;34m)\u001b[0m\u001b[0;34m\u001b[0m\u001b[0;34m\u001b[0m\u001b[0m\n",
      "\u001b[0;31mNameError\u001b[0m: name 'say' is not defined"
     ]
    }
   ],
   "source": [
    "say() # 함수의 호출과 정의의 순서가 잘못되어서 코드 실행시 오류가 발생한다.\n",
    "def say():\n",
    "    print(\"안녕하세요!\")"
   ]
  },
  {
   "cell_type": "code",
   "execution_count": 5,
   "id": "4409645b",
   "metadata": {},
   "outputs": [
    {
     "name": "stdout",
     "output_type": "stream",
     "text": [
      "안녕하세요?\n"
     ]
    }
   ],
   "source": [
    "# 5번과 6번은 실행 결과가 동일한 코드이다.\n",
    "def say():\n",
    "    print(\"안녕하세요?\")\n",
    "say()"
   ]
  },
  {
   "cell_type": "code",
   "execution_count": 6,
   "id": "116f34f4",
   "metadata": {},
   "outputs": [
    {
     "name": "stdout",
     "output_type": "stream",
     "text": [
      "안녕하세요?\n"
     ]
    }
   ],
   "source": [
    "# 5번과 6번은 실행 결과가 동일한 코드이다.\n",
    "def say():\n",
    "    return \"안녕하세요?\"\n",
    "a = say()\n",
    "print(a)"
   ]
  },
  {
   "cell_type": "code",
   "execution_count": 8,
   "id": "8833f193",
   "metadata": {},
   "outputs": [
    {
     "name": "stdout",
     "output_type": "stream",
     "text": [
      "81\n"
     ]
    }
   ],
   "source": [
    "def power(a, b): # 첫번째 코드는 함수를 정의한다. 그러므로 def 함수명(매개변수): 이렇게 함수 정의를 먼저 한다.\n",
    "    c =a ** b # 두번째 코드의 거듭제곱 연산자는 ** 이렇게 작성한다.\n",
    "    return 81 # 실행 결과가 81 이다. 그러므로 return으로 81이라는 값이 반환 될것이다.\n",
    "result = power(3,4) #print(result)가 실행되기 위해서는 result가 정의되어야 한다. 그 정의한다가 result = power(3,4) 이것이 된다.\n",
    "print(result) "
   ]
  },
  {
   "cell_type": "code",
   "execution_count": 6,
   "id": "54572bb4",
   "metadata": {},
   "outputs": [
    {
     "name": "stdout",
     "output_type": "stream",
     "text": [
      "숫자를 입력하세요.:24\n",
      "짝수인가요?\n",
      "True\n"
     ]
    }
   ],
   "source": [
    "def isEven(x): # 기본구조는 def 함수명(매개변수):   \"함수명은 isEven\" , (매개변수): 이순서는 -> (\"(x): 이렇게 된다.\")\n",
    "    return x % 2 == 0\n",
    "\n",
    "num = int(input(\"숫자를 입력하세요.:\"))\n",
    "print(\"짝수인가요?\")\n",
    "print(isEven(num))"
   ]
  },
  {
   "cell_type": "code",
   "execution_count": null,
   "id": "30f35148",
   "metadata": {},
   "outputs": [],
   "source": []
  }
 ],
 "metadata": {
  "kernelspec": {
   "display_name": "Python 3 (ipykernel)",
   "language": "python",
   "name": "python3"
  },
  "language_info": {
   "codemirror_mode": {
    "name": "ipython",
    "version": 3
   },
   "file_extension": ".py",
   "mimetype": "text/x-python",
   "name": "python",
   "nbconvert_exporter": "python",
   "pygments_lexer": "ipython3",
   "version": "3.9.7"
  }
 },
 "nbformat": 4,
 "nbformat_minor": 5
}
