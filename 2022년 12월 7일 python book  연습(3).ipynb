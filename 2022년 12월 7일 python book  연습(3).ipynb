{
 "cells": [
  {
   "cell_type": "code",
   "execution_count": 2,
   "id": "45f50830",
   "metadata": {},
   "outputs": [
    {
     "name": "stdout",
     "output_type": "stream",
     "text": [
      "12\n"
     ]
    }
   ],
   "source": [
    "# len() 함수로 문자열의 길이를 구하는 코드입니다.\n",
    "hi = \"파이썬 공부는 즐거워!\"\n",
    "print(len(hi))"
   ]
  },
  {
   "cell_type": "code",
   "execution_count": 3,
   "id": "2620dd4f",
   "metadata": {},
   "outputs": [
    {
     "name": "stdout",
     "output_type": "stream",
     "text": [
      "2\n"
     ]
    }
   ],
   "source": [
    "# count() 함수로 문자열 내 특정 문자의 개수를 세는 코드입니다.\n",
    "a = \"apple\"\n",
    "print(a.count('p'))"
   ]
  },
  {
   "cell_type": "code",
   "execution_count": 4,
   "id": "e2405656",
   "metadata": {},
   "outputs": [
    {
     "name": "stdout",
     "output_type": "stream",
     "text": [
      "4\n",
      "-1\n"
     ]
    }
   ],
   "source": [
    "#find() 함수로 문자열 내 특정 문자의 위치를 찾는 코드입니다.\n",
    "a =\"apple\"\n",
    "print(a.find('e'))\n",
    "print(a.find('z')) # 문자열.find(문자)는 문자열에서 해당 문자의 위치, 즉 인덱스를 반환합니다. 만약 문자열에 해당 문자가 없으면 -1 반환."
   ]
  },
  {
   "cell_type": "code",
   "execution_count": 6,
   "id": "ce683557",
   "metadata": {},
   "outputs": [
    {
     "name": "stdout",
     "output_type": "stream",
     "text": [
      "coding is fun\n"
     ]
    }
   ],
   "source": [
    "a = \"python is fun\"\n",
    "print(a.replace(\"python\", \"coding\")) # 문자열.replace(기존 문자열, 대체 문자열)을 이용하면 전체 문자열 안에 있는 기존 문자열을 찾아 대체문자열로 변환한다."
   ]
  },
  {
   "cell_type": "code",
   "execution_count": 7,
   "id": "ad15b891",
   "metadata": {},
   "outputs": [
    {
     "name": "stdout",
     "output_type": "stream",
     "text": [
      "['python', 'is', 'fun']\n",
      "['py', 'thon', 'is', 'fun']\n"
     ]
    }
   ],
   "source": [
    "#split() 함수로 특정 문자를 기준으로 문자열을 자르는 코드입니다.\n",
    "a = \"python is fun\"\n",
    "print(a.split())\n",
    "b = \"py,thon,is,fun\"\n",
    "print(b.split(','))"
   ]
  },
  {
   "cell_type": "code",
   "execution_count": 8,
   "id": "bd2b2cc1",
   "metadata": {},
   "outputs": [
    {
     "name": "stdout",
     "output_type": "stream",
     "text": [
      "10\n"
     ]
    }
   ],
   "source": [
    "name = \"kimbyunsoo\"\n",
    "print(len(name))"
   ]
  },
  {
   "cell_type": "code",
   "execution_count": 9,
   "id": "b44a75db",
   "metadata": {},
   "outputs": [
    {
     "name": "stdout",
     "output_type": "stream",
     "text": [
      "4\n"
     ]
    }
   ],
   "source": [
    "a = \"짜라짜짜짜파게티 맜있게 먹자!\"\n",
    "print(a.count('짜'))"
   ]
  },
  {
   "cell_type": "code",
   "execution_count": 10,
   "id": "83805199",
   "metadata": {},
   "outputs": [
    {
     "name": "stdout",
     "output_type": "stream",
     "text": [
      "2\n"
     ]
    }
   ],
   "source": [
    "a = \"도레미 레미파 미파솔\"\n",
    "print(a.index('미')) #a.index('미')는 변수 a에 담긴 문자열 안에서 '미'라는 글자의 인덱스를 반환합니다. 문자열 안에 있는 여러 '미'들 중 가장 앞에 있는 '미'의 인덱스를 반환합니다."
   ]
  },
  {
   "cell_type": "code",
   "execution_count": 20,
   "id": "1bf126a2",
   "metadata": {},
   "outputs": [
    {
     "ename": "IndexError",
     "evalue": "string index out of range",
     "output_type": "error",
     "traceback": [
      "\u001b[0;31m---------------------------------------------------------------------------\u001b[0m",
      "\u001b[0;31mIndexError\u001b[0m                                Traceback (most recent call last)",
      "\u001b[0;32m/tmp/ipykernel_80/1810501385.py\u001b[0m in \u001b[0;36m<module>\u001b[0;34m\u001b[0m\n\u001b[1;32m      1\u001b[0m \u001b[0ma\u001b[0m \u001b[0;34m=\u001b[0m \u001b[0;34m\"perfect day\"\u001b[0m\u001b[0;34m\u001b[0m\u001b[0;34m\u001b[0m\u001b[0m\n\u001b[0;32m----> 2\u001b[0;31m \u001b[0mprint\u001b[0m\u001b[0;34m(\u001b[0m\u001b[0mlen\u001b[0m\u001b[0;34m(\u001b[0m\u001b[0ma\u001b[0m\u001b[0;34m[\u001b[0m\u001b[0;36m11\u001b[0m\u001b[0;34m]\u001b[0m\u001b[0;34m)\u001b[0m\u001b[0;34m)\u001b[0m\u001b[0;34m\u001b[0m\u001b[0;34m\u001b[0m\u001b[0m\n\u001b[0m",
      "\u001b[0;31mIndexError\u001b[0m: string index out of range"
     ]
    }
   ],
   "source": [
    "a = \"perfect day\"\n",
    "print(len(a[11])) \n",
    "#substring 함수 사용시에 변수의 길이를 벗어나면 이런 오류가 발생하게 된다. \n",
    "#대괄호 안에 11을 넣으면 오류가 발생한다."
   ]
  },
  {
   "cell_type": "code",
   "execution_count": 21,
   "id": "b82c41f7",
   "metadata": {},
   "outputs": [
    {
     "name": "stdout",
     "output_type": "stream",
     "text": [
      "밌다\n"
     ]
    }
   ],
   "source": [
    "fc = \"파이썬 재밌다!\"\n",
    "print(fc[-3:7])"
   ]
  },
  {
   "cell_type": "code",
   "execution_count": 22,
   "id": "497c1f35",
   "metadata": {},
   "outputs": [
    {
     "name": "stdout",
     "output_type": "stream",
     "text": [
      "['햄버거', '감자튀김', '콜라', '사이다', '너겟', '비스켓']\n"
     ]
    }
   ],
   "source": [
    "fast = '햄버거,감자튀김,콜라,사이다,너겟,비스켓'\n",
    "print(fast.split(\",\")) \n",
    "# print(변수명.split(문자)) = 문자열.split(문자)\n",
    "# 여기서 문자열은 prinf(fast.) 이것이 된다."
   ]
  },
  {
   "cell_type": "code",
   "execution_count": null,
   "id": "b1a7bd25",
   "metadata": {},
   "outputs": [],
   "source": []
  }
 ],
 "metadata": {
  "kernelspec": {
   "display_name": "Python 3 (ipykernel)",
   "language": "python",
   "name": "python3"
  },
  "language_info": {
   "codemirror_mode": {
    "name": "ipython",
    "version": 3
   },
   "file_extension": ".py",
   "mimetype": "text/x-python",
   "name": "python",
   "nbconvert_exporter": "python",
   "pygments_lexer": "ipython3",
   "version": "3.9.7"
  }
 },
 "nbformat": 4,
 "nbformat_minor": 5
}
