{
 "cells": [
  {
   "cell_type": "code",
   "execution_count": 1,
   "id": "4652513d",
   "metadata": {},
   "outputs": [
    {
     "name": "stdout",
     "output_type": "stream",
     "text": [
      "40\n"
     ]
    }
   ],
   "source": [
    "array_2d = [[10, 20], [30, 40], [50, 60]]\n",
    "print(array_2d[1][1])"
   ]
  },
  {
   "cell_type": "code",
   "execution_count": 2,
   "id": "0c36f61b",
   "metadata": {},
   "outputs": [
    {
     "name": "stdout",
     "output_type": "stream",
     "text": [
      "[10, 20],[40, 50],[70, 80],"
     ]
    }
   ],
   "source": [
    "array_2d = [[10, 20, 30], [40, 50, 60], [70, 80,90]]\n",
    "for i in range(3):\n",
    "    print(array_2d[i][0:2],end=',')"
   ]
  },
  {
   "cell_type": "code",
   "execution_count": 5,
   "id": "fe5a3089",
   "metadata": {},
   "outputs": [
    {
     "name": "stdout",
     "output_type": "stream",
     "text": [
      "[0, 2, 0, 4, 0]\n"
     ]
    }
   ],
   "source": [
    "a = [1, 2, 3, 4, 5]\n",
    "\n",
    "for x in range(len(a)): # for 문에서 len(a)를 이용해 인덱스 0부터 4까지 반복합니다.\n",
    "    if x % 2 == 0:      # 반복문 안에서 if 문을 이용합니다. 인덱스를 2로 나눈  나머지 값이 0일 경우에만 a[x] = 0 실행된다.\n",
    "        a[x] = 0        # 출력 결과에서 인덱스가 0이거나 2의 배수일 경우에 값이 모두 0으로 바뀌었으므로 빈칸에는 a[x] = 0 \n",
    "\n",
    "print(a)"
   ]
  },
  {
   "cell_type": "code",
   "execution_count": 6,
   "id": "6469d247",
   "metadata": {},
   "outputs": [
    {
     "name": "stdout",
     "output_type": "stream",
     "text": [
      "[53, 9, 4, 3, 2, 1]\n"
     ]
    }
   ],
   "source": [
    "a = [3, 9, 2, 4, 53, 1]\n",
    "a.sort()\n",
    "a.reverse()\n",
    "print(a)"
   ]
  },
  {
   "cell_type": "code",
   "execution_count": 7,
   "id": "546fe832",
   "metadata": {},
   "outputs": [
    {
     "name": "stdout",
     "output_type": "stream",
     "text": [
      "(1, 2)\n",
      "[1, 2]\n"
     ]
    }
   ],
   "source": [
    "# 튜플과 리스트를 선언하고 출력하는 코드입니다.\n",
    "a = (1, 2)\n",
    "b = [1, 2]\n",
    "print(a)\n",
    "print(b)"
   ]
  },
  {
   "cell_type": "code",
   "execution_count": 8,
   "id": "c029bb21",
   "metadata": {},
   "outputs": [
    {
     "name": "stdout",
     "output_type": "stream",
     "text": [
      "1\n",
      "<class 'int'>\n",
      "(1,)\n",
      "<class 'tuple'>\n"
     ]
    }
   ],
   "source": [
    "# 데이터가 하나만 있는 튜플을 선언하고 출력하는 코드입니다.\n",
    "a = (1)\n",
    "print(a)\n",
    "print(type(a))\n",
    "b = (1, )\n",
    "print(b)\n",
    "print(type(b))\n",
    "\n",
    "# a와 b 둘 다 괄호로 데이터를 감쌌지만 a는 정수형, b는 튜플 자료형으로 출력됩니다. \n",
    "# a와 다르게 b는 선언할 때 숫자 뒤에 쉼표를 붙였기 때문에 파이썬이 이를 튜플 자료형으로 인식 한것입니다."
   ]
  },
  {
   "cell_type": "code",
   "execution_count": 9,
   "id": "80e7cd47",
   "metadata": {},
   "outputs": [
    {
     "name": "stdout",
     "output_type": "stream",
     "text": [
      "(1, 2, 3)\n",
      "<class 'tuple'>\n"
     ]
    }
   ],
   "source": [
    "# 여러 데이터를 괄호 없이 쉼표로 나열한 코드입니다.\n",
    "a = 1, 2, 3\n",
    "print(a)\n",
    "print(type(a))"
   ]
  },
  {
   "cell_type": "markdown",
   "id": "20b41f02",
   "metadata": {},
   "source": [
    "# 튜플은 리스트처럼 여러 데이터를 저장할 수 있는 자료형입니다.                                                                                                                                                                          리스트는 값을 대괄호로 감싸 사용했다면 , 튜플은 값을 소괄호로 감싸 사용합니다.                                                                                                                                            튜플에서 특이한 점은 데이터가 하나일 때는 데이터 뒤에 쉼표를 붙여야 한다는                                                                                                                                                  것입니다. 그렇지 않으면 튜플 자료형으로 인식되지 않습니다.                                                                                                                                                                               리스트와 달리 튜플은 괄호를 생략할 수 있습니다. 괄호 없이 쉼표로 데이터를 나열                                                                                                                                             하면 자동으로 튜플로 인식됩니다."
   ]
  },
  {
   "cell_type": "markdown",
   "id": "2d09a3c3",
   "metadata": {},
   "source": [
    "# 튜플은 리스트와 매우 유사한 자료형입니다.                                                              튜플도 리스트에서만 인덱싱으로 데이터에 접근할수 있고 슬라이싱 할수도 있습니다. 여러모로 유사한 자료형 이지만, 리스트는 가변적이고 튜플은 불변적이다.                  리스트는 데이터를 추가, 수정, 삭제할 수 있지만 튜플은 그럴 수 없습니다."
   ]
  },
  {
   "cell_type": "markdown",
   "id": "eaa44eca",
   "metadata": {},
   "source": [
    "# 리스트에서처럼 del을 이용해 튜플의 요소를 삭제하려 하면 다음과 같이 오류가 발생합니다."
   ]
  },
  {
   "cell_type": "code",
   "execution_count": 10,
   "id": "441fc373",
   "metadata": {},
   "outputs": [
    {
     "ename": "TypeError",
     "evalue": "'tuple' object doesn't support item deletion",
     "output_type": "error",
     "traceback": [
      "\u001b[0;31m---------------------------------------------------------------------------\u001b[0m",
      "\u001b[0;31mTypeError\u001b[0m                                 Traceback (most recent call last)",
      "\u001b[0;32m/tmp/ipykernel_32/564982615.py\u001b[0m in \u001b[0;36m<module>\u001b[0;34m\u001b[0m\n\u001b[1;32m      1\u001b[0m \u001b[0ma\u001b[0m \u001b[0;34m=\u001b[0m \u001b[0;34m(\u001b[0m\u001b[0;36m1\u001b[0m\u001b[0;34m,\u001b[0m \u001b[0;36m2\u001b[0m\u001b[0;34m)\u001b[0m\u001b[0;34m\u001b[0m\u001b[0;34m\u001b[0m\u001b[0m\n\u001b[0;32m----> 2\u001b[0;31m \u001b[0;32mdel\u001b[0m \u001b[0ma\u001b[0m \u001b[0;34m[\u001b[0m\u001b[0;36m0\u001b[0m\u001b[0;34m]\u001b[0m\u001b[0;34m\u001b[0m\u001b[0;34m\u001b[0m\u001b[0m\n\u001b[0m",
      "\u001b[0;31mTypeError\u001b[0m: 'tuple' object doesn't support item deletion"
     ]
    }
   ],
   "source": [
    "a = (1, 2)\n",
    "del a [0]"
   ]
  },
  {
   "cell_type": "markdown",
   "id": "4ea8c2cf",
   "metadata": {},
   "source": [
    "# 마찬가지로 튜플 인덱싱으로 데이터를 변경하려 해도 오류가 발생합니다."
   ]
  },
  {
   "cell_type": "code",
   "execution_count": 11,
   "id": "8a86ead8",
   "metadata": {},
   "outputs": [
    {
     "ename": "TypeError",
     "evalue": "'tuple' object does not support item assignment",
     "output_type": "error",
     "traceback": [
      "\u001b[0;31m---------------------------------------------------------------------------\u001b[0m",
      "\u001b[0;31mTypeError\u001b[0m                                 Traceback (most recent call last)",
      "\u001b[0;32m/tmp/ipykernel_32/3172248319.py\u001b[0m in \u001b[0;36m<module>\u001b[0;34m\u001b[0m\n\u001b[1;32m      1\u001b[0m \u001b[0ma\u001b[0m \u001b[0;34m=\u001b[0m \u001b[0;34m(\u001b[0m\u001b[0;36m1\u001b[0m\u001b[0;34m,\u001b[0m \u001b[0;36m2\u001b[0m\u001b[0;34m)\u001b[0m\u001b[0;34m\u001b[0m\u001b[0;34m\u001b[0m\u001b[0m\n\u001b[0;32m----> 2\u001b[0;31m \u001b[0ma\u001b[0m\u001b[0;34m[\u001b[0m\u001b[0;36m0\u001b[0m\u001b[0;34m]\u001b[0m \u001b[0;34m=\u001b[0m \u001b[0;34m'a'\u001b[0m\u001b[0;34m\u001b[0m\u001b[0;34m\u001b[0m\u001b[0m\n\u001b[0m",
      "\u001b[0;31mTypeError\u001b[0m: 'tuple' object does not support item assignment"
     ]
    }
   ],
   "source": [
    "a = (1, 2)\n",
    "a[0] = 'a'"
   ]
  },
  {
   "cell_type": "code",
   "execution_count": 12,
   "id": "3311268b",
   "metadata": {},
   "outputs": [
    {
     "name": "stdout",
     "output_type": "stream",
     "text": [
      "1\n",
      "(1, 2)\n"
     ]
    }
   ],
   "source": [
    "# 인덱싱으로 튜플의 값에 접근하고, 슬라이싱하는 코드입니다.\n",
    "a = 1, 2, 3\n",
    "print(a[0])\n",
    "print(a[0:2])"
   ]
  },
  {
   "cell_type": "markdown",
   "id": "f31ffce0",
   "metadata": {},
   "source": [
    "# 불변적이라는 특징으로 인해 튜플은 주로 값이 변경될 여지가 없는 곳에 사용됩니다. 예를 들어 색상의 RGB 값이나 특정 위치의 좌표를 튜플로 저장하면 좋습니다."
   ]
  },
  {
   "cell_type": "code",
   "execution_count": 14,
   "id": "5ff3b475",
   "metadata": {},
   "outputs": [
    {
     "name": "stdout",
     "output_type": "stream",
     "text": [
      "파란색의 RGB 값은 (0, 0, 255) 입니다.\n"
     ]
    }
   ],
   "source": [
    "blue = (0, 0, 255)\n",
    "print(\"파란색의 RGB 값은\", blue, \"입니다.\")"
   ]
  },
  {
   "cell_type": "markdown",
   "id": "3543d6d8",
   "metadata": {},
   "source": [
    "# 튜플 : 괄호 사용 , 한번 선언하면 값을 바꿀 수 없음 , 괄호 생략가능 , 불변 사용\n",
    "\n",
    "# 리스트 : 대괄호 사용 , 값의 생성,삭제,수정 가능 , 괄호 생략불가능 , 가변 사용"
   ]
  },
  {
   "cell_type": "code",
   "execution_count": 17,
   "id": "e3a476e3",
   "metadata": {},
   "outputs": [
    {
     "name": "stdout",
     "output_type": "stream",
     "text": [
      "2\n"
     ]
    }
   ],
   "source": [
    "a = (1, 3, 2, 5, 7, 9, 11)\n",
    "print(a[2])"
   ]
  },
  {
   "cell_type": "code",
   "execution_count": 18,
   "id": "986fb90c",
   "metadata": {},
   "outputs": [
    {
     "name": "stdout",
     "output_type": "stream",
     "text": [
      "('올', '라', '프')\n"
     ]
    }
   ],
   "source": [
    "a = ('겨울','왕국','올','라','프')\n",
    "print(a[-3:]) # a[-3:]은 인덱스 -3번부터 마지막까지 슬라이싱하므로 출력 결과가 ('올','라','프')"
   ]
  },
  {
   "cell_type": "markdown",
   "id": "0c8002d6",
   "metadata": {},
   "source": [
    "# 튜플 자료형의 형태를 이용해 여러 개의 변수에 값을 한번에 저장 가능하다."
   ]
  },
  {
   "cell_type": "code",
   "execution_count": 19,
   "id": "cdd869ac",
   "metadata": {},
   "outputs": [
    {
     "name": "stdout",
     "output_type": "stream",
     "text": [
      "10 20 10 20\n"
     ]
    }
   ],
   "source": [
    "a = 10\n",
    "b = 20\n",
    "c, d = a, b # c = a와 d = b 이렇게 두 줄의 코드로도 구현할 수 있지만, 튜플 형태를 활용하면 한 번에 2개 이상의 변수에 값을 저장가능\n",
    "            # 변수 a에 담긴 값인 10을 c에 저장하고, 변수 b에 담긴 값인 20을 d에 저장합니다.\n",
    "print(a, b, c, d)"
   ]
  },
  {
   "cell_type": "markdown",
   "id": "3c58abcf",
   "metadata": {},
   "source": [
    "# 또한 튜플은 함수가 반환하는 값의 자료형으로 사용될 수도 있습니다.                          그렇게 반환한 튜플 자료형 그대로 각 변수에 저장할 수도 있습니다."
   ]
  },
  {
   "cell_type": "code",
   "execution_count": 21,
   "id": "dae7bcd9",
   "metadata": {},
   "outputs": [
    {
     "name": "stdout",
     "output_type": "stream",
     "text": [
      "(1, 5)\n",
      "<class 'tuple'>\n"
     ]
    }
   ],
   "source": [
    "# 최솟값과 최대값을 튜플 자료형으로 반환하는 함수를 작성한 코드입니다.\n",
    "def minmax(ex_lst):\n",
    "    return min(ex_lst), max(ex_lst)\n",
    "# 1~2번 줄 : minmax 함수를 정의하는 코드입니다. 2번 줄에서 min()과 max()는 각각 리스트나 튜플로부터 최솟값과 최대값을 구하는 내장 함수입니다.\n",
    "# 따라서 minmx 함수는 매개변수인 리스트 ex_list의 최솟값과 최대값을 튜플 자료형으로 반환합니다. 2번 줄에서 괄호가 생략된 튜플의 형태로 작성하였습니다.\n",
    "\n",
    "a = [1, 2, 3, 4, 5]\n",
    "result = minmax(a) # 리스트 a를 전달인자로 넣어 minmax 함수를 호출하고 함수의 반환값을 변수 result에 저장합니다.\n",
    "print(result)\n",
    "print(type(result))"
   ]
  },
  {
   "cell_type": "markdown",
   "id": "2612e7b8",
   "metadata": {},
   "source": [
    "# 튜플의 값을 각각 변수에 저장할 경우 저장된 값의 개수와 변수의 개수가 일치해야 합니다. 일치하지 않을 경우 오류가 발생합니다."
   ]
  },
  {
   "cell_type": "code",
   "execution_count": null,
   "id": "9ff85506",
   "metadata": {},
   "outputs": [],
   "source": []
  }
 ],
 "metadata": {
  "kernelspec": {
   "display_name": "Python 3 (ipykernel)",
   "language": "python",
   "name": "python3"
  },
  "language_info": {
   "codemirror_mode": {
    "name": "ipython",
    "version": 3
   },
   "file_extension": ".py",
   "mimetype": "text/x-python",
   "name": "python",
   "nbconvert_exporter": "python",
   "pygments_lexer": "ipython3",
   "version": "3.9.7"
  }
 },
 "nbformat": 4,
 "nbformat_minor": 5
}
