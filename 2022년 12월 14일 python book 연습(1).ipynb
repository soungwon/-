{
 "cells": [
  {
   "cell_type": "code",
   "execution_count": 1,
   "id": "03d4b32e",
   "metadata": {},
   "outputs": [
    {
     "name": "stdout",
     "output_type": "stream",
     "text": [
      "{1, 2, 3, 4, 5} <class 'set'>\n",
      "{'l', 'e', 'p', 'a'} <class 'set'>\n",
      "{1, 3, 4, 6, 7} <class 'set'>\n"
     ]
    }
   ],
   "source": [
    "a = set([5, 2, 3, 2, 1, 4])\n",
    "b = set(\"apple\")\n",
    "c = {3, 6, 4, 7, 1, 7}\n",
    "print(a, type(a))\n",
    "print(b, type(b))\n",
    "print(c, type(c))"
   ]
  },
  {
   "cell_type": "code",
   "execution_count": 3,
   "id": "5899b723",
   "metadata": {},
   "outputs": [
    {
     "name": "stdout",
     "output_type": "stream",
     "text": [
      "{'애플망고', '포도', '사과', '체리', '망고', '오렌지'}\n"
     ]
    }
   ],
   "source": [
    "fruits = {'오렌지','사과','망고','망고','애플망고','체리','포도'}\n",
    "print(fruits)"
   ]
  },
  {
   "cell_type": "code",
   "execution_count": 4,
   "id": "399b0477",
   "metadata": {},
   "outputs": [
    {
     "name": "stdout",
     "output_type": "stream",
     "text": [
      "{1, 2, 3, 4}\n",
      "{1, 2, 3, 4}\n",
      "{1, 2, 3, 4}\n"
     ]
    }
   ],
   "source": [
    "a = set([1, 2, 3])\n",
    "b = set([2, 3, 4])\n",
    "print(a.union(b))\n",
    "print(a.union(b))\n",
    "print(b.union(a))"
   ]
  },
  {
   "cell_type": "code",
   "execution_count": 5,
   "id": "92c46e0d",
   "metadata": {},
   "outputs": [
    {
     "name": "stdout",
     "output_type": "stream",
     "text": [
      "{'미', '는', '늘', '오', '뚠', '개', '열심히', '도'}\n",
      "{'뚠'}\n",
      "{'미', '는', '개'}\n"
     ]
    }
   ],
   "source": [
    "g = {'개','미','는','뚠','뚠'}\n",
    "o = {'오', '늘', '도','뚠','뚠','열심히'}\n",
    "print(g.union(o))\n",
    "print(g.intersection(o))\n",
    "print(g.difference(o))"
   ]
  },
  {
   "cell_type": "code",
   "execution_count": 6,
   "id": "10583476",
   "metadata": {},
   "outputs": [
    {
     "name": "stdout",
     "output_type": "stream",
     "text": [
      "{1, 2, 3, -1}\n"
     ]
    }
   ],
   "source": [
    "a = set([1, 2, 3])\n",
    "a.add(-1)\n",
    "a.add(2)\n",
    "print(a)"
   ]
  },
  {
   "cell_type": "code",
   "execution_count": 7,
   "id": "be840770",
   "metadata": {},
   "outputs": [
    {
     "name": "stdout",
     "output_type": "stream",
     "text": [
      "{3, 4, 5, 7, 8}\n"
     ]
    }
   ],
   "source": [
    "a = set([3, 4, 5])\n",
    "a.update([3, 5, 7, 8])\n",
    "print(a)"
   ]
  },
  {
   "cell_type": "code",
   "execution_count": 8,
   "id": "b9496640",
   "metadata": {},
   "outputs": [
    {
     "name": "stdout",
     "output_type": "stream",
     "text": [
      "{4, 5, 7}\n"
     ]
    }
   ],
   "source": [
    "a = set([3, 4, 5, 7])\n",
    "a.remove(3)\n",
    "print(a)"
   ]
  },
  {
   "cell_type": "code",
   "execution_count": 9,
   "id": "20a5c3cd",
   "metadata": {},
   "outputs": [
    {
     "ename": "KeyError",
     "evalue": "0",
     "output_type": "error",
     "traceback": [
      "\u001b[0;31m---------------------------------------------------------------------------\u001b[0m",
      "\u001b[0;31mKeyError\u001b[0m                                  Traceback (most recent call last)",
      "\u001b[0;32m/tmp/ipykernel_49/2063141250.py\u001b[0m in \u001b[0;36m<module>\u001b[0;34m\u001b[0m\n\u001b[1;32m      1\u001b[0m \u001b[0ma\u001b[0m \u001b[0;34m=\u001b[0m \u001b[0mset\u001b[0m\u001b[0;34m(\u001b[0m\u001b[0;34m[\u001b[0m\u001b[0;36m3\u001b[0m\u001b[0;34m,\u001b[0m \u001b[0;36m4\u001b[0m\u001b[0;34m,\u001b[0m \u001b[0;36m5\u001b[0m\u001b[0;34m,\u001b[0m \u001b[0;36m7\u001b[0m\u001b[0;34m]\u001b[0m\u001b[0;34m)\u001b[0m\u001b[0;34m\u001b[0m\u001b[0;34m\u001b[0m\u001b[0m\n\u001b[0;32m----> 2\u001b[0;31m \u001b[0ma\u001b[0m\u001b[0;34m.\u001b[0m\u001b[0mremove\u001b[0m\u001b[0;34m(\u001b[0m\u001b[0;36m0\u001b[0m\u001b[0;34m)\u001b[0m\u001b[0;34m\u001b[0m\u001b[0;34m\u001b[0m\u001b[0m\n\u001b[0m\u001b[1;32m      3\u001b[0m \u001b[0mprint\u001b[0m\u001b[0;34m(\u001b[0m\u001b[0ma\u001b[0m\u001b[0;34m)\u001b[0m\u001b[0;34m\u001b[0m\u001b[0;34m\u001b[0m\u001b[0m\n",
      "\u001b[0;31mKeyError\u001b[0m: 0"
     ]
    }
   ],
   "source": [
    "a = set([3, 4, 5, 7])\n",
    "a.remove(0)\n",
    "print(a)"
   ]
  },
  {
   "cell_type": "code",
   "execution_count": 10,
   "id": "6ea5acaf",
   "metadata": {},
   "outputs": [
    {
     "name": "stdout",
     "output_type": "stream",
     "text": [
      "{'home', 'gift', 'school'}\n"
     ]
    }
   ],
   "source": [
    "a = {'home', 'hi', 'school', 'home'}\n",
    "a.add('gift')\n",
    "a.update(['home','hi'])\n",
    "a.remove('hi')\n",
    "print(a)"
   ]
  },
  {
   "cell_type": "code",
   "execution_count": 1,
   "id": "7ee360e9",
   "metadata": {},
   "outputs": [],
   "source": [
    "dic = {'python':'파이썬','C':'C언어','java':'자바'}"
   ]
  },
  {
   "cell_type": "code",
   "execution_count": 2,
   "id": "4050cbd2",
   "metadata": {},
   "outputs": [
    {
     "name": "stdout",
     "output_type": "stream",
     "text": [
      "파이썬\n",
      "C언어\n",
      "자바\n"
     ]
    }
   ],
   "source": [
    "dic = {'python':'파이썬','C':'C언어','java':'자바'}\n",
    "print(dic[\"python\"])\n",
    "print(dic[\"C\"])\n",
    "print(dic[\"java\"])"
   ]
  },
  {
   "cell_type": "code",
   "execution_count": 3,
   "id": "2adad6e9",
   "metadata": {},
   "outputs": [
    {
     "name": "stdout",
     "output_type": "stream",
     "text": [
      "1\n",
      "문자\n",
      "[1, 2]\n",
      "(1, 2)\n",
      "{'python': '파이썬'}\n"
     ]
    }
   ],
   "source": [
    "dic = {\"int\": 1, \"str\": \"문자\", \"list\":[1, 2],\"tuple\":(1,2),\"dict\":{\"python\":\"파이썬\"}}\n",
    "print(dic[\"int\"])\n",
    "print(dic[\"str\"])\n",
    "print(dic[\"list\"])\n",
    "print(dic[\"tuple\"])\n",
    "print(dic[\"dict\"])"
   ]
  },
  {
   "cell_type": "code",
   "execution_count": 4,
   "id": "94ba7801",
   "metadata": {},
   "outputs": [
    {
     "name": "stdout",
     "output_type": "stream",
     "text": [
      "기타\n"
     ]
    }
   ],
   "source": [
    "coco = {'이름':'코코','나이':14,'특기':'기타'}\n",
    "print(coco['특기'])"
   ]
  },
  {
   "cell_type": "markdown",
   "id": "a3a0b21b",
   "metadata": {},
   "source": [
    "# 올바른 딕셔너리가 아닌 것"
   ]
  },
  {
   "cell_type": "code",
   "execution_count": null,
   "id": "ced61eb4",
   "metadata": {},
   "outputs": [],
   "source": [
    "{'num':[1,2], 'eng':['a', 'b'], 'kor':['ㄱ','ㄴ']}"
   ]
  },
  {
   "cell_type": "markdown",
   "id": "dc61caa8",
   "metadata": {},
   "source": [
    "# 딕셔너리의 key 값에는 변하지 않는 값만 너을수 있습니다. 리스트는 변할 수 있는 자료형이므로 key로 사용할 수 없습니다."
   ]
  },
  {
   "cell_type": "code",
   "execution_count": 5,
   "id": "ada5525a",
   "metadata": {},
   "outputs": [
    {
     "name": "stdout",
     "output_type": "stream",
     "text": [
      "잡채\n"
     ]
    }
   ],
   "source": [
    "a = {'생일':'케이크','축하':'미역국','잔치':'잡채'}\n",
    "b = {'제육': '볶음', '잔치':'국수'}\n",
    "b.update(a)\n",
    "print(b[\"잔치\"])"
   ]
  },
  {
   "cell_type": "code",
   "execution_count": 6,
   "id": "20d09919",
   "metadata": {},
   "outputs": [
    {
     "name": "stdout",
     "output_type": "stream",
     "text": [
      "red 빨강\n",
      "blue 파랑\n",
      "yellow 노랑\n",
      "green 초록\n"
     ]
    }
   ],
   "source": [
    "color = {'빨강':'red','파랑':'blue','노랑':'yellow','초록':'green'}\n",
    "\n",
    "for k, v in color.items():\n",
    "    print(v,k)"
   ]
  },
  {
   "cell_type": "markdown",
   "id": "0dfda343",
   "metadata": {},
   "source": [
    "# 실행 결과에서 color 딕셔너리의 모든 key, value 쌍이 출력됩니다. for 반복문에 items() 함수를 사용했음을 알수 있습니다.\n",
    "# print(v, k)로 출력되었을 때 value 값 key 값 순으로 출력되었으므로 v가 value 값, k가 key 값임을 알 수 있습니다.\n",
    "# 빈칸에는 for k, v in color.items()"
   ]
  },
  {
   "cell_type": "code",
   "execution_count": 7,
   "id": "d5e7d9d5",
   "metadata": {},
   "outputs": [
    {
     "name": "stdout",
     "output_type": "stream",
     "text": [
      "{'a': 'apple', 'b': 'banana', 'c': 'cool', 'd': 'dictionary'}\n"
     ]
    }
   ],
   "source": [
    "dic = {\"a\" : \"apple\",\"b\" : \"banana\", \"c\" : \"cool\"}\n",
    "dic[\"d\"] = \"dictionary\"\n",
    "print(dic)"
   ]
  },
  {
   "cell_type": "code",
   "execution_count": null,
   "id": "f82b204d",
   "metadata": {},
   "outputs": [],
   "source": []
  }
 ],
 "metadata": {
  "kernelspec": {
   "display_name": "Python 3 (ipykernel)",
   "language": "python",
   "name": "python3"
  },
  "language_info": {
   "codemirror_mode": {
    "name": "ipython",
    "version": 3
   },
   "file_extension": ".py",
   "mimetype": "text/x-python",
   "name": "python",
   "nbconvert_exporter": "python",
   "pygments_lexer": "ipython3",
   "version": "3.9.7"
  }
 },
 "nbformat": 4,
 "nbformat_minor": 5
}
