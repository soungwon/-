{
 "cells": [
  {
   "cell_type": "code",
   "execution_count": 1,
   "id": "5ccc5872",
   "metadata": {},
   "outputs": [
    {
     "name": "stdout",
     "output_type": "stream",
     "text": [
      "{'a': 'apple', 'b': 'banana', 'c': 'cold', 'd': 'dictionary', 'e': 'elevator'}\n"
     ]
    }
   ],
   "source": [
    "dic = {\"a\":\"apple\",\"b\":\"banana\",\"c\":\"cool\"}\n",
    "dic.update({\"c\":\"cold\",\"d\":\"dictionary\",\"e\":\"elevator\"})\n",
    "print(dic)"
   ]
  },
  {
   "cell_type": "code",
   "execution_count": 2,
   "id": "1bc9ea1b",
   "metadata": {},
   "outputs": [
    {
     "name": "stdout",
     "output_type": "stream",
     "text": [
      "{'b': 'banana', 'c': 'cool'}\n"
     ]
    }
   ],
   "source": [
    "dic = {\"a\":\"apple\",\"b\":\"banana\",\"c\":\"cool\"}\n",
    "del dic[\"a\"]\n",
    "print(dic)"
   ]
  },
  {
   "cell_type": "code",
   "execution_count": 3,
   "id": "41e78184",
   "metadata": {},
   "outputs": [
    {
     "name": "stdout",
     "output_type": "stream",
     "text": [
      "{'a': 'apple', 'b': 'banana', 'c': 'coconut'}\n"
     ]
    }
   ],
   "source": [
    "dic = {\"a\":\"apple\",\"b\":\"banana\",\"c\":\"cool\"}\n",
    "dic[\"c\"] = \"coconut\"\n",
    "print(dic)"
   ]
  },
  {
   "cell_type": "code",
   "execution_count": 4,
   "id": "4d8d5106",
   "metadata": {},
   "outputs": [
    {
     "name": "stdout",
     "output_type": "stream",
     "text": [
      "{'빨강': 'red', '파랑': 'blue', 12: 'twelve', 5: 'five', 2: 'two'}\n"
     ]
    }
   ],
   "source": [
    "color = {'빨강':'red','파랑':'blue'}\n",
    "num = {12:'twelve',5:'five',2:'two'}\n",
    "color.update(num)\n",
    "print(color)"
   ]
  },
  {
   "cell_type": "code",
   "execution_count": 5,
   "id": "c43ef437",
   "metadata": {},
   "outputs": [
    {
     "name": "stdout",
     "output_type": "stream",
     "text": [
      "베트멘\n"
     ]
    }
   ],
   "source": [
    "movie = {'마블':'어벤져스','DC':'베트멘','디즈니':'겨울왕국'}\n",
    "print(movie['DC'])"
   ]
  },
  {
   "cell_type": "code",
   "execution_count": 6,
   "id": "dd7bf493",
   "metadata": {},
   "outputs": [
    {
     "name": "stdout",
     "output_type": "stream",
     "text": [
      "dict_keys(['a', 'b', 'c'])\n"
     ]
    }
   ],
   "source": [
    "dic = {\"a\":\"apple\",\"b\":\"banana\",\"c\":\"cool\"}\n",
    "print(dic.keys())"
   ]
  },
  {
   "cell_type": "code",
   "execution_count": 8,
   "id": "f902a7d1",
   "metadata": {},
   "outputs": [
    {
     "name": "stdout",
     "output_type": "stream",
     "text": [
      "a apple b banana c cool "
     ]
    }
   ],
   "source": [
    "dic = {\"a\":\"apple\",\"b\":\"banana\",\"c\":\"cool\"}\n",
    "for k in dic.keys():\n",
    "    print(k,end=\" \")\n",
    "    print(dic[k],end=\" \")"
   ]
  },
  {
   "cell_type": "code",
   "execution_count": 9,
   "id": "99b5bc22",
   "metadata": {},
   "outputs": [
    {
     "name": "stdout",
     "output_type": "stream",
     "text": [
      "dict_values(['apple', 'banana', 'cool'])\n"
     ]
    }
   ],
   "source": [
    "dic = {\"a\":\"apple\",\"b\":\"banana\",\"c\":\"cool\"}\n",
    "print(dic.values())"
   ]
  },
  {
   "cell_type": "code",
   "execution_count": 10,
   "id": "a2ec594c",
   "metadata": {},
   "outputs": [
    {
     "name": "stdout",
     "output_type": "stream",
     "text": [
      "apple banana cool "
     ]
    }
   ],
   "source": [
    "dic = {\"a\":\"apple\",\"b\":\"banana\",\"c\":\"cool\"}\n",
    "for v in dic.values():\n",
    "    print(v,end=\" \")"
   ]
  },
  {
   "cell_type": "code",
   "execution_count": 11,
   "id": "3e5414e0",
   "metadata": {},
   "outputs": [
    {
     "name": "stdout",
     "output_type": "stream",
     "text": [
      "dict_items([('a', 'apple'), ('b', 'banana'), ('c', 'cool')])\n"
     ]
    }
   ],
   "source": [
    "dic = {\"a\":\"apple\",\"b\":\"banana\",\"c\":\"cool\"}\n",
    "print(dic.items())"
   ]
  },
  {
   "cell_type": "code",
   "execution_count": 12,
   "id": "2fbe21c8",
   "metadata": {},
   "outputs": [
    {
     "name": "stdout",
     "output_type": "stream",
     "text": [
      "a apple\n",
      "b banana\n",
      "c cool\n"
     ]
    }
   ],
   "source": [
    "dic = {\"a\":\"apple\",\"b\":\"banana\",\"c\":\"cool\"}\n",
    "\n",
    "for k, v in dic.items():\n",
    "    print(k, v)"
   ]
  },
  {
   "cell_type": "code",
   "execution_count": 13,
   "id": "de5695c6",
   "metadata": {},
   "outputs": [
    {
     "name": "stdout",
     "output_type": "stream",
     "text": [
      "240\n"
     ]
    }
   ],
   "source": [
    "score = {\"a\":90, \"b\":80, \"c\":70}\n",
    "\n",
    "result = 0\n",
    "for v in score.values(): # score.values()는 score 딕셔너리의 value 값만 불러옵니다. 즉, [90, 80, 70]과 같습니다.\n",
    "    result = result + v  # 변수 result에 모든 value 값을 더합니다.\n",
    "    \n",
    "print(result)            # 따라서 모든 value 값 90, 80, 70을 더한 240이 출력됩니다."
   ]
  },
  {
   "cell_type": "code",
   "execution_count": 15,
   "id": "53956f43",
   "metadata": {},
   "outputs": [
    {
     "name": "stdout",
     "output_type": "stream",
     "text": [
      "240\n"
     ]
    }
   ],
   "source": [
    "score = {\"a\":90, \"b\":80, \"c\":70}\n",
    "\n",
    "result = 0\n",
    "for v in score.keys():         # score.keys()는 score 딕셔너리의 key 값만 불러옵니다. 즉, ['a','b','c']와 같습니다. 여기서 v는 score 딕셔너리의 key 값입니다.\n",
    "    result = result + score[v] # result에 key와 쌍을 이루는 value값을 더해야 합니다. value 값을 가지고 올 때는 딕셔너리명[key] 형태로 가지고와야 하므로 빈칸에는 score[v]가 들어가야 합니다.\n",
    "    \n",
    "print(result)"
   ]
  },
  {
   "cell_type": "code",
   "execution_count": null,
   "id": "48c99cf1",
   "metadata": {},
   "outputs": [],
   "source": []
  }
 ],
 "metadata": {
  "kernelspec": {
   "display_name": "Python 3 (ipykernel)",
   "language": "python",
   "name": "python3"
  },
  "language_info": {
   "codemirror_mode": {
    "name": "ipython",
    "version": 3
   },
   "file_extension": ".py",
   "mimetype": "text/x-python",
   "name": "python",
   "nbconvert_exporter": "python",
   "pygments_lexer": "ipython3",
   "version": "3.9.7"
  }
 },
 "nbformat": 4,
 "nbformat_minor": 5
}
