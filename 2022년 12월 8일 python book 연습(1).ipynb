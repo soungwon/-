{
 "cells": [
  {
   "cell_type": "code",
   "execution_count": 1,
   "id": "ced67499",
   "metadata": {},
   "outputs": [
    {
     "name": "stdout",
     "output_type": "stream",
     "text": [
      "10\n",
      "9\n",
      "9\n"
     ]
    }
   ],
   "source": [
    "# value라는 리스트에 값들을 저장하고, 저장된 값을 가져와 출력하는 코드입니다.\n",
    "value = [10, 9, 8 ,9, 9]\n",
    "print(value[0])\n",
    "print(value[3])\n",
    "print(value[-1]) # 뒤에서부터 음수로 시작하는 인덱스도 사용할 수 있습니다. value[-1]은 마지막 인덱스를 가리킵니다."
   ]
  },
  {
   "cell_type": "code",
   "execution_count": 2,
   "id": "90184221",
   "metadata": {},
   "outputs": [
    {
     "name": "stdout",
     "output_type": "stream",
     "text": [
      "1\n",
      "python\n",
      "1.3\n"
     ]
    }
   ],
   "source": [
    "#다양한 자료형을 리스트에 저장하고 출력하는 코드입니다\n",
    "example = [1, \"python\", 1.3]\n",
    "print(example[0])\n",
    "print(example[1])\n",
    "print(example[-1]) # example[-1]은 마지막 데이터인 실수 1.3를 가리킵니다."
   ]
  },
  {
   "cell_type": "code",
   "execution_count": 3,
   "id": "d8105286",
   "metadata": {},
   "outputs": [
    {
     "name": "stdout",
     "output_type": "stream",
     "text": [
      "10\n",
      "3\n"
     ]
    }
   ],
   "source": [
    "# 리스트 안에 데이터를 저장하고 출력하는 코드입니다.\n",
    "value = [10, 8, 8, 9, 9]\n",
    "print(value[0])\n",
    "value[0] = 3\n",
    "print(value[0])\n",
    "# 4번줄: 다시 한번 value 리스트의 인덱스 0에 저장된 값을 출력하면 3이 출력됩니다.\n",
    "# 이를 통해 리스트 0번 인덱스 데이터가 바뀌었음을 확인할 수 있습니다."
   ]
  },
  {
   "cell_type": "code",
   "execution_count": 4,
   "id": "2998c4bc",
   "metadata": {},
   "outputs": [
    {
     "name": "stdout",
     "output_type": "stream",
     "text": [
      "인덱싱\n"
     ]
    }
   ],
   "source": [
    "a = ['리', '스', '트', '인덱싱', '하기']\n",
    "print(a[3])"
   ]
  },
  {
   "cell_type": "code",
   "execution_count": 5,
   "id": "421e7d36",
   "metadata": {},
   "outputs": [
    {
     "name": "stdout",
     "output_type": "stream",
     "text": [
      "['tain', 'A', 'me', 'ri', 'ca']\n"
     ]
    }
   ],
   "source": [
    "cap =['tain', 'a', 'me', 'ri', 'ca']\n",
    "cap[1] = 'A' # 기존 리스트에서 인덱스 1을 'A'로 변경하였습니다.\n",
    "print(cap)"
   ]
  },
  {
   "cell_type": "code",
   "execution_count": 7,
   "id": "59d1ecfa",
   "metadata": {},
   "outputs": [
    {
     "name": "stdout",
     "output_type": "stream",
     "text": [
      "10\n",
      "9\n",
      "8\n",
      "7\n",
      "6\n"
     ]
    }
   ],
   "source": [
    "# for 문을 이용해 리스트 안의 데이터를 출력하는 코드입니다.\n",
    "a = [10, 9, 8, 7, 6]\n",
    "\n",
    "for x in a: # 여기서 변수 x는 리스트 안의 데이터를 가리킵니다.\n",
    "    print(x)"
   ]
  },
  {
   "cell_type": "code",
   "execution_count": 9,
   "id": "a00c0e82",
   "metadata": {},
   "outputs": [
    {
     "name": "stdout",
     "output_type": "stream",
     "text": [
      "인덱스 0 값: 10\n",
      "인덱스 1 값: 9\n",
      "인덱스 2 값: 8\n",
      "인덱스 3 값: 7\n",
      "인덱스 4 값: 6\n"
     ]
    }
   ],
   "source": [
    "# len() 함수를 이용해 for 문을 사용하는 코드입니다.\n",
    "a = [10, 9, 8, 7, 6]\n",
    "\n",
    "for i in range(len(a)):\n",
    "    print(\"인덱스\",i,\"값:\",a[i])"
   ]
  },
  {
   "cell_type": "code",
   "execution_count": 10,
   "id": "5d41dbba",
   "metadata": {},
   "outputs": [
    {
     "name": "stdout",
     "output_type": "stream",
     "text": [
      "['a', 'a', 'a', 'a', 'a']\n"
     ]
    }
   ],
   "source": [
    "#for 문을 이용해 리스트에 데이터를 새로 저장하는 코드입니다.\n",
    "a = [10, 9, 8, 7, 6]\n",
    "\n",
    "for i in range(len(a)):\n",
    "    a[i] = 'a'\n",
    "    \n",
    "print(a)"
   ]
  },
  {
   "cell_type": "code",
   "execution_count": 13,
   "id": "283c9e76",
   "metadata": {},
   "outputs": [
    {
     "name": "stdout",
     "output_type": "stream",
     "text": [
      "2 4 6 8 10 "
     ]
    }
   ],
   "source": [
    "a = [1, 2, 3, 4, 5]\n",
    "for x in a:\n",
    "     print(x * 2, end=\" \")"
   ]
  },
  {
   "cell_type": "code",
   "execution_count": 14,
   "id": "2a4b0358",
   "metadata": {},
   "outputs": [
    {
     "name": "stdout",
     "output_type": "stream",
     "text": [
      "2 3 4 5 "
     ]
    }
   ],
   "source": [
    "a = [1, 2, 3, 4, 5]\n",
    "for x in range(1,len(a)):\n",
    "    print(a[x], end=' ')"
   ]
  },
  {
   "cell_type": "code",
   "execution_count": 15,
   "id": "8c03a40d",
   "metadata": {},
   "outputs": [
    {
     "name": "stdout",
     "output_type": "stream",
     "text": [
      "[1, 2, 3, 4, 5, 6, 7, 8, 9, 10]\n",
      "[1, 2, 3, 4, 5]\n",
      "[6, 7, 8, 9, 10]\n",
      "[1, 2, 3, 4, 5]\n",
      "[6, 7, 8, 9, 10]\n"
     ]
    }
   ],
   "source": [
    "# 리스트를 슬라이싱하는 코드입니다.\n",
    "a = [1,2,3,4,5,6,7,8,9,10]\n",
    "print(a)\n",
    "print(a[0:5])  # a[0:5]는 인덱스 0부터 4까지 슬라이싱합니다.\n",
    "print(a[5:10]) # a[5:10]는 인덱스 5부터 9까지 슬라이싱합니다.\n",
    "print(a[:5])   # a[:5]는 인덱스 0부터 4까지 슬라이싱합니다.\n",
    "print(a[-5:])  # a[-5:]는 인덱스 -5부터 9까지 슬라이싱합니다."
   ]
  },
  {
   "cell_type": "code",
   "execution_count": 20,
   "id": "7942db04",
   "metadata": {},
   "outputs": [
    {
     "name": "stdout",
     "output_type": "stream",
     "text": [
      "[0]\n",
      "[0, 1]\n"
     ]
    }
   ],
   "source": [
    "#파이썬에서는 리스트와 관련된 다양한 내장함수를 사용할 수 있습니다.\n",
    "# append() 함수로 데이터를 삽입하는 코드입니다.\n",
    "a = []\n",
    "\n",
    "a.append(0) # 이것만 출력하면 [0] 이렇게 된다.\n",
    "print(a)\n",
    "a.append(1) # 위에 작성하고 아래줄을 작성하면 위,아래가 대괄호 안에 같이 출력된다. 출력결과는 [0,1] 이렇게 된다.\n",
    "print(a)"
   ]
  },
  {
   "cell_type": "code",
   "execution_count": null,
   "id": "3f733cbc",
   "metadata": {},
   "outputs": [],
   "source": []
  }
 ],
 "metadata": {
  "kernelspec": {
   "display_name": "Python 3 (ipykernel)",
   "language": "python",
   "name": "python3"
  },
  "language_info": {
   "codemirror_mode": {
    "name": "ipython",
    "version": 3
   },
   "file_extension": ".py",
   "mimetype": "text/x-python",
   "name": "python",
   "nbconvert_exporter": "python",
   "pygments_lexer": "ipython3",
   "version": "3.9.7"
  }
 },
 "nbformat": 4,
 "nbformat_minor": 5
}
