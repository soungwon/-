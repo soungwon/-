{
 "cells": [
  {
   "cell_type": "code",
   "execution_count": 1,
   "id": "651f7f72",
   "metadata": {},
   "outputs": [
    {
     "name": "stdout",
     "output_type": "stream",
     "text": [
      "썬\n",
      "는\n"
     ]
    }
   ],
   "source": [
    "# 문자열 인덱싱으로 원하는 위치의 글자를 출력하는 코드입니다.\n",
    "hi = \"파이썬 공부는 어려워\"\n",
    "print(hi[2])\n",
    "print(hi[6])"
   ]
  },
  {
   "cell_type": "code",
   "execution_count": 2,
   "id": "600164dd",
   "metadata": {},
   "outputs": [
    {
     "name": "stdout",
     "output_type": "stream",
     "text": [
      "!\n",
      "썬\n"
     ]
    }
   ],
   "source": [
    "# 문자열 인덱싱으로 원하는 위치의 글자를 출력하는 코드입니다.\n",
    "hi = \"파이썬 공부는 어려워!\"\n",
    "print(hi[-1])\n",
    "print(hi[-10])"
   ]
  },
  {
   "cell_type": "code",
   "execution_count": 3,
   "id": "f0815208",
   "metadata": {},
   "outputs": [
    {
     "name": "stdout",
     "output_type": "stream",
     "text": [
      "공부는\n",
      " 어려\n"
     ]
    }
   ],
   "source": [
    " # 문자열을 슬라이싱 하는 코드입니다.\n",
    "hi = \"파이썬 공부는 어려워!\"\n",
    "print(hi[4:7])\n",
    "print(hi[7:10])"
   ]
  },
  {
   "cell_type": "code",
   "execution_count": 4,
   "id": "da4c5047",
   "metadata": {},
   "outputs": [
    {
     "name": "stdout",
     "output_type": "stream",
     "text": [
      "공부는 어려워\n",
      "썬 공\n"
     ]
    }
   ],
   "source": [
    " # 음수 인덱싱으로 슬라이싱 하는 코드입니다.\n",
    "hi = \"파이썬 공부는 어려워!\"\n",
    "print(hi[4:-1])\n",
    "print(hi[2:-7])"
   ]
  },
  {
   "cell_type": "code",
   "execution_count": 5,
   "id": "2ad10edf",
   "metadata": {},
   "outputs": [
    {
     "name": "stdout",
     "output_type": "stream",
     "text": [
      "파이썬 \n",
      "워!\n"
     ]
    }
   ],
   "source": [
    " # 문자열을 슬라이싱하는 코드입니다.\n",
    "hi = \"파이썬 공부는 어려워!\"\n",
    "print(hi[:4])\n",
    "print(hi[10:])"
   ]
  },
  {
   "cell_type": "code",
   "execution_count": 6,
   "id": "1ad42a62",
   "metadata": {},
   "outputs": [
    {
     "name": "stdout",
     "output_type": "stream",
     "text": [
      "녕\n"
     ]
    }
   ],
   "source": [
    "a = \"안녕 반가워! 파이썬은 처음이지?\"\n",
    "print(a[-17]) # 음수로 번호를 저장할 때에는 맨 뒤에서 -1부터 시작합니다. 따라서 인덱스 -17번이 '녕'에 해당합니다."
   ]
  },
  {
   "cell_type": "code",
   "execution_count": 7,
   "id": "f0307a5b",
   "metadata": {},
   "outputs": [
    {
     "name": "stdout",
     "output_type": "stream",
     "text": [
      "n은 3입니다.\n"
     ]
    }
   ],
   "source": [
    "#데이터 하나에 대한 문자열 포맷 코드를 사용하는 예시입니다.\n",
    "n = 3\n",
    "print(\"n은 %d입니다.\"% n)"
   ]
  },
  {
   "cell_type": "code",
   "execution_count": 8,
   "id": "de1a556e",
   "metadata": {},
   "outputs": [
    {
     "name": "stdout",
     "output_type": "stream",
     "text": [
      "n은 3, m은 5입니다.\n"
     ]
    }
   ],
   "source": [
    "#여러 데이터 하나에 대한 문자열 포맷 코드를 사용하는 예시입니다.\n",
    "n = 3\n",
    "m = 5\n",
    "print(\"n은 %d, m은 %d입니다.\"% (n,m))"
   ]
  },
  {
   "cell_type": "code",
   "execution_count": 11,
   "id": "bf093400",
   "metadata": {},
   "outputs": [
    {
     "ename": "TypeError",
     "evalue": "%d format: a number is required, not str",
     "output_type": "error",
     "traceback": [
      "\u001b[0;31m---------------------------------------------------------------------------\u001b[0m",
      "\u001b[0;31mTypeError\u001b[0m                                 Traceback (most recent call last)",
      "\u001b[0;32m/tmp/ipykernel_48/2110132489.py\u001b[0m in \u001b[0;36m<module>\u001b[0;34m\u001b[0m\n\u001b[1;32m      2\u001b[0m \u001b[0mn\u001b[0m \u001b[0;34m=\u001b[0m \u001b[0;36m3\u001b[0m\u001b[0;34m\u001b[0m\u001b[0;34m\u001b[0m\u001b[0m\n\u001b[1;32m      3\u001b[0m \u001b[0mm\u001b[0m \u001b[0;34m=\u001b[0m \u001b[0;34m\"안녕\"\u001b[0m\u001b[0;34m\u001b[0m\u001b[0;34m\u001b[0m\u001b[0m\n\u001b[0;32m----> 4\u001b[0;31m \u001b[0mprint\u001b[0m\u001b[0;34m(\u001b[0m\u001b[0;34m\"n은 %d, m은 %d입니다.\"\u001b[0m \u001b[0;34m%\u001b[0m \u001b[0;34m(\u001b[0m\u001b[0mn\u001b[0m\u001b[0;34m,\u001b[0m\u001b[0mm\u001b[0m\u001b[0;34m)\u001b[0m\u001b[0;34m)\u001b[0m\u001b[0;34m\u001b[0m\u001b[0;34m\u001b[0m\u001b[0m\n\u001b[0m",
      "\u001b[0;31mTypeError\u001b[0m: %d format: a number is required, not str"
     ]
    }
   ],
   "source": [
    "# 문자열 포맷 코드와 포매팅하는 데이터의 자료형이 다른 경우입니다. 오류가 발생합니다.\n",
    "n = 3 \n",
    "m = \"안녕\" #n은 숫자 자료형 , m은 문자열 자료형인 변수입니다.\n",
    "print(\"n은 %d, m은 %d입니다.\" % (n,m)) # m은 문자열 자료형이다. 숫자 자료형일때 작성하는 %d 이것을 작성해서 코드의 오류가 발생한다."
   ]
  },
  {
   "cell_type": "code",
   "execution_count": 3,
   "id": "df2dc6e7",
   "metadata": {},
   "outputs": [
    {
     "name": "stdout",
     "output_type": "stream",
     "text": [
      "n은 3, 영어로는 three입니다.\n"
     ]
    }
   ],
   "source": [
    "#format() 함수를 이용하여 출력하는 코드입니다.\n",
    "n = 3\n",
    "m = \"three\"\n",
    "print(\"n은 {0}, 영어로는 {1}입니다.\".format(n,m))"
   ]
  },
  {
   "cell_type": "code",
   "execution_count": 16,
   "id": "db3239da",
   "metadata": {},
   "outputs": [
    {
     "name": "stdout",
     "output_type": "stream",
     "text": [
      "n은 3입니다\n"
     ]
    }
   ],
   "source": [
    "#문자열을 사용해 출력하는 코드입니다.\n",
    "n = 3\n",
    "print(f'n은 {n}입니다')"
   ]
  },
  {
   "cell_type": "code",
   "execution_count": 23,
   "id": "28d88240",
   "metadata": {},
   "outputs": [
    {
     "name": "stdout",
     "output_type": "stream",
     "text": [
      "제 이름은 변수입니다.\n",
      "제 나이는 18이고요,\n",
      "제 취미는 코딩입니다.\n"
     ]
    }
   ],
   "source": [
    "name = \"변수\"\n",
    "age = 18\n",
    "hobby = \"코딩\"\n",
    "print(\"제 이름은 %s입니다.\"% name) # 변수 name에 저장된 데이터는 문자열이므로 문자열 포맷 코드인 %s를 적어야 합니다.\n",
    "print(f\"제 나이는 {age}이고요,\") # f 문자열을 사용하므로 변수 age를 중괄호로 감싸서 적어야 합니다.\n",
    "print(\"제 취미는 {0}입니다.\". format(hobby)) # format() 함수를 사용할 때는 .format(변수명)을 적어야 포메팅할 수 있습니다.\n",
    "\n",
    "# (문자열 포맷 코드) , (%s) , (f 문자열 사용) , (변수 age를 중괄호로 감싸서) , (format() 함수 사용시 문자열 뒤에 .format(변수명))"
   ]
  },
  {
   "cell_type": "code",
   "execution_count": null,
   "id": "6489f40b",
   "metadata": {},
   "outputs": [],
   "source": []
  }
 ],
 "metadata": {
  "kernelspec": {
   "display_name": "Python 3 (ipykernel)",
   "language": "python",
   "name": "python3"
  },
  "language_info": {
   "codemirror_mode": {
    "name": "ipython",
    "version": 3
   },
   "file_extension": ".py",
   "mimetype": "text/x-python",
   "name": "python",
   "nbconvert_exporter": "python",
   "pygments_lexer": "ipython3",
   "version": "3.9.7"
  }
 },
 "nbformat": 4,
 "nbformat_minor": 5
}
