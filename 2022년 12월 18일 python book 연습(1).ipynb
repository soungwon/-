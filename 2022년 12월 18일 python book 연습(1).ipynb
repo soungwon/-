{
 "cells": [
  {
   "cell_type": "code",
   "execution_count": 2,
   "id": "ebbbe099",
   "metadata": {},
   "outputs": [
    {
     "name": "stdout",
     "output_type": "stream",
     "text": [
      "waffle\n",
      "waffle\n"
     ]
    }
   ],
   "source": [
    "class waffle:\n",
    "    name = \"waffle\"\n",
    "# 1,2 번줄 : waffle 이라는 클래스를 생성하고 클래스 안에서 변수 name에 waffle 이라는 문자열을 저장했습니다.\n",
    "choco = waffle()\n",
    "print(choco.name)\n",
    "# 4,5 번줄 : choco는 waffle의 객체입니다. 따라서 choco.name을 출력하면 name에 들어있는 waffle이 출력됩니다.\n",
    "banana = waffle()\n",
    "print(banana.name)\n",
    "# 7,8 번줄 banana도 waffle의 객체이기 때문에 banana.name을 출력하면 waffle이 출력됩니다."
   ]
  },
  {
   "cell_type": "code",
   "execution_count": 3,
   "id": "c688ef56",
   "metadata": {},
   "outputs": [
    {
     "name": "stdout",
     "output_type": "stream",
     "text": [
      "choco waffle\n"
     ]
    }
   ],
   "source": [
    "class waffle:\n",
    "    name = \"waffle\"\n",
    "    \n",
    "choco = waffle()\n",
    "waffle.name = \"choco waffle\"\n",
    "\n",
    "banana = waffle()\n",
    "print(banana.name)\n",
    "# 5번 줄 : waffle.name = \"choco waffle\"로 waffle 클래스 내 변수 name의 값을 변경합니다. 따라서 waffle 클래스의 객체인 banana의\n",
    "# 변수 name에도 동일하게 \"choco waffle\"이 적용됩니다."
   ]
  },
  {
   "cell_type": "code",
   "execution_count": 5,
   "id": "44e6eb68",
   "metadata": {},
   "outputs": [
    {
     "name": "stdout",
     "output_type": "stream",
     "text": [
      "choco waffle\n",
      "banana waffle\n"
     ]
    }
   ],
   "source": [
    "class waffle:\n",
    "    def setName(self, n):\n",
    "        self.name = n\n",
    "# 1~3번줄 : waffle 클래스 안에 setname() 메소드를 생성합니다. setname()메소드는 self와 n을 인풋으로 받습니다. self.name = n을 보고\n",
    "# self가 객체임을 알 수 있습니다. 객체의 변수 name에 인풋 n을 저장하는 구조입니다.\n",
    "choco = waffle()\n",
    "choco.setName(\"choco waffle\")\n",
    "print(choco.name)\n",
    "\n",
    "banana = waffle()\n",
    "banana.setName(\"banana waffle\")\n",
    "print(banana.name)\n",
    "\n",
    "# 6,10번줄 : 객체에서 setname() 메소드를 호출할때 인풋을 하나만 추가합니다. 객체에서 메소드를 호출할때 해당 객체가 자동으로 self라는\n",
    "# 인풋으로 포함되므로 여기서는 인풋 n에 해당하는 값만 넣어 주면 됩니다."
   ]
  },
  {
   "cell_type": "code",
   "execution_count": 7,
   "id": "a8ec7e93",
   "metadata": {},
   "outputs": [
    {
     "name": "stdout",
     "output_type": "stream",
     "text": [
      "120\n",
      "점프\n"
     ]
    }
   ],
   "source": [
    "class avatar:\n",
    "    def setavatar(self, height, skill):\n",
    "        self.height = height\n",
    "        self.skill = skill\n",
    "# 1~4번줄: avatar 클래스 안에 setavatar() 메소드를 생성합니다. setavatar() 메소드는 height와 skill을 인풋으로 받아 해당객체의 변수로 저장\n",
    "byunsoo = avatar()\n",
    "# 6번줄 : avatar 클래스를 이용해 byunsoo라는 객체를 생성합니다.\n",
    "byunsoo.setavatar(120, '점프')\n",
    "# 7번줄 : byunsoo 객체에서 setavatar() 메소드를 호출합니디. height는 120, skill은 '점프'로 설정합니다.\n",
    "print(byunsoo.height)\n",
    "print(byunsoo.skill)\n",
    "# 9~10번줄 : byunsoo 객체의 height와 skill 값을 출력합니다."
   ]
  },
  {
   "cell_type": "code",
   "execution_count": 2,
   "id": "5bd4b080",
   "metadata": {},
   "outputs": [
    {
     "name": "stdout",
     "output_type": "stream",
     "text": [
      "키는 120 cm, 스킬은 점프 입니다.\n"
     ]
    }
   ],
   "source": [
    "class Avatar:\n",
    "    def setAvatar(self, height, skill):\n",
    "        self.height = height\n",
    "        self.skill = skill\n",
    "        \n",
    "    def printAvatar(self):\n",
    "        print(\"키는\", self.height, \"cm,\", \"스킬은\", self.skill, \"입니다.\")\n",
    "              \n",
    "byunsoo = Avatar()\n",
    "byunsoo.setAvatar(120, '점프')\n",
    "byunsoo.printAvatar()\n",
    "\n",
    "#6~7번줄 : printavatar() 메소드는 self 외의 다른 인풋은 받지 않습니다. self는 객체로 클래스의 메소드를 호출할때 자동으로 포함됩니다.\n",
    "#11번줄  : printavatar() 메소드를 호출합니다."
   ]
  },
  {
   "cell_type": "code",
   "execution_count": 4,
   "id": "322964b1",
   "metadata": {},
   "outputs": [
    {
     "name": "stdout",
     "output_type": "stream",
     "text": [
      "name: Lee\n",
      "Email: lee@python.com\n"
     ]
    }
   ],
   "source": [
    "class person:\n",
    "    def setinfo(self, name, email):\n",
    "        self.name = name\n",
    "        self.email = email\n",
    "    def printinfo(self):\n",
    "        print(\"name:\", self.name)\n",
    "        print(\"Email:\", self.email)\n",
    "\n",
    "member1 = person()\n",
    "member1.setinfo(\"Lee\",\"lee@python.com\")\n",
    "member1.printinfo()\n",
    "\n",
    "# 9번줄 : member1은 person 클래스로 생성된 객체입니다.\n",
    "# 10번줄 : member1 객체로 setinfo() 메소드를 호출하여 member1의 변수 name과 email의 값을 저장합니다.\n",
    "# 11번줄 : 여기서 member1 객체로 printinfo() 메소드를 호출하면 member1의 변수 name과 email에 저장된 값이 출력됩니다."
   ]
  },
  {
   "cell_type": "code",
   "execution_count": 8,
   "id": "e43d4fc1",
   "metadata": {},
   "outputs": [
    {
     "name": "stdout",
     "output_type": "stream",
     "text": [
      "현재 byunsoo 의 hp는 0 입니다.\n",
      "현재 pythony 의 hp는 0 입니다.\n"
     ]
    }
   ],
   "source": [
    "class avatar:\n",
    "    def setavatar(self, name, hp):\n",
    "        self.name = name\n",
    "        self.hp = hp\n",
    "    \n",
    "    def increaseHp(self):\n",
    "        self.hp = self.hp + 10\n",
    "        \n",
    "    def decreaseHp(self):\n",
    "        self.hp = self.hp - 10\n",
    "        \n",
    "    def printHp(self):\n",
    "        print(\"현재\", self.name, \"의 hp는\", self.hp, \"입니다.\")\n",
    "        \n",
    "byunsoo = avatar()\n",
    "byunsoo.setavatar(\"byunsoo\", 0)\n",
    "byunsoo.printHp()\n",
    "\n",
    "pythony = avatar()\n",
    "pythony.setavatar(\"pythony\", 0)\n",
    "pythony.printHp()"
   ]
  },
  {
   "cell_type": "code",
   "execution_count": 9,
   "id": "3b329558",
   "metadata": {},
   "outputs": [
    {
     "name": "stdout",
     "output_type": "stream",
     "text": [
      "현재 byunsoo 의 hp는 0 입니다.\n",
      "현재 pythony 의 hp는 0 입니다.\n"
     ]
    }
   ],
   "source": [
    "class avatar:\n",
    "    def __init__(self, name, hp):\n",
    "        self.name = name\n",
    "        self.hp = hp\n",
    "    \n",
    "    def increaseHp(self):\n",
    "        self.hp = self.hp + 10\n",
    "        \n",
    "    def decreaseHp(self):\n",
    "        self.hp = self.hp - 10\n",
    "        \n",
    "    def printHp(self):\n",
    "        print(\"현재\", self.name, \"의 hp는\", self.hp, \"입니다.\")\n",
    "        \n",
    "byunsoo = avatar(\"byunsoo\",0)\n",
    "byunsoo.printHp()\n",
    "\n",
    "pythony.printHp()"
   ]
  },
  {
   "cell_type": "code",
   "execution_count": 12,
   "id": "dcc1cbc4",
   "metadata": {},
   "outputs": [
    {
     "name": "stdout",
     "output_type": "stream",
     "text": [
      "name: Lee\n",
      "email: lee@python.com\n"
     ]
    }
   ],
   "source": [
    "class person:\n",
    "    def __init__(self, name, email):\n",
    "        self.name = name\n",
    "        self.email= email\n",
    "    def printinfo(self):\n",
    "        print(\"name:\", self.name)\n",
    "        print(\"email:\", self.email)\n",
    "        \n",
    "member1 = person(\"Lee\", \"lee@python.com\")\n",
    "member1.printinfo()\n",
    "\n",
    "#9번줄 person 클래스로 객체를 생성할때 name과 email을 설정해 주었으므로 빈칸에 해당하는 메소드가 생성자임을 알 수 있다.\n",
    "#파이썬에서는 __init__ 이라는 이름으로 메소드를 선언한 경우 자동으로 생성자로 인식합니다."
   ]
  },
  {
   "cell_type": "code",
   "execution_count": 16,
   "id": "d449933e",
   "metadata": {},
   "outputs": [],
   "source": [
    "class student:\n",
    "    def set(self, name, email, addr):\n",
    "        self.name = name\n",
    "        self.name = email\n",
    "        self.addr = addr\n",
    "\n",
    "#메소드는 함수입니다. 그러므로 클래스에서 메소드를 선언할때 메소드명 앞에 def를 붙여 주어야 합니다."
   ]
  },
  {
   "cell_type": "code",
   "execution_count": 17,
   "id": "d05554b7",
   "metadata": {},
   "outputs": [],
   "source": [
    "class student:\n",
    "    def __init__(self, name, email):\n",
    "        self.name = name\n",
    "        self.name = email\n",
    "byunsoo = student(\"변수\", \" byunsoo@gmail.com\")\n",
    "\n",
    "# 5번 줄 : 객체를 생성할 때 인풋 2개를 넣어 주었으므로 stuent 클래스에는 생성자가 있어야 합니다.\n",
    "# 생성자는 __init__ 이라는 메소드 이름으로 선언합니다."
   ]
  },
  {
   "cell_type": "code",
   "execution_count": null,
   "id": "9863ab65",
   "metadata": {},
   "outputs": [],
   "source": []
  }
 ],
 "metadata": {
  "kernelspec": {
   "display_name": "Python 3 (ipykernel)",
   "language": "python",
   "name": "python3"
  },
  "language_info": {
   "codemirror_mode": {
    "name": "ipython",
    "version": 3
   },
   "file_extension": ".py",
   "mimetype": "text/x-python",
   "name": "python",
   "nbconvert_exporter": "python",
   "pygments_lexer": "ipython3",
   "version": "3.9.7"
  }
 },
 "nbformat": 4,
 "nbformat_minor": 5
}
