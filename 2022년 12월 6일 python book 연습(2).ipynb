{
 "cells": [
  {
   "cell_type": "code",
   "execution_count": 1,
   "id": "fac0b456",
   "metadata": {},
   "outputs": [],
   "source": [
    "def printHello():\n",
    "    print(\"hello world\")"
   ]
  },
  {
   "cell_type": "code",
   "execution_count": 2,
   "id": "9c334c03",
   "metadata": {},
   "outputs": [
    {
     "name": "stdout",
     "output_type": "stream",
     "text": [
      "hello world\n",
      "hello world\n",
      "hello world\n"
     ]
    }
   ],
   "source": [
    "def printHello():\n",
    "    print(\"hello world\")\n",
    "printHello()\n",
    "printHello()\n",
    "printHello()"
   ]
  },
  {
   "cell_type": "code",
   "execution_count": 3,
   "id": "41dafb83",
   "metadata": {},
   "outputs": [],
   "source": [
    "def call():\n",
    "    print(\"여보세요\")"
   ]
  },
  {
   "cell_type": "code",
   "execution_count": 1,
   "id": "6abf8433",
   "metadata": {},
   "outputs": [
    {
     "name": "stdout",
     "output_type": "stream",
     "text": [
      "8\n",
      "13\n"
     ]
    }
   ],
   "source": [
    "def printSum(a, b):\n",
    "    print(a + b)\n",
    "printSum(3, 5)\n",
    "printSum(6, 7)"
   ]
  },
  {
   "cell_type": "code",
   "execution_count": 2,
   "id": "4ea5007a",
   "metadata": {},
   "outputs": [
    {
     "name": "stdout",
     "output_type": "stream",
     "text": [
      "숫자 1개를 입력하세요.:24\n",
      "숫자 1개를 더 입력하세요.:35\n",
      "59\n"
     ]
    }
   ],
   "source": [
    "def prinfSum(a, b):\n",
    "    print(a + b)\n",
    "x = int(input(\"숫자 1개를 입력하세요.:\"))\n",
    "y = int(input(\"숫자 1개를 더 입력하세요.:\"))\n",
    "printSum(x, y)"
   ]
  },
  {
   "cell_type": "code",
   "execution_count": 8,
   "id": "d679dc1b",
   "metadata": {},
   "outputs": [
    {
     "name": "stdout",
     "output_type": "stream",
     "text": [
      "Say Ho~ 안녕하세요\n"
     ]
    }
   ],
   "source": [
    "def say(word):\n",
    "    print(word, \"안녕하세요\")\n",
    "say(\"Say Ho~\")"
   ]
  },
  {
   "cell_type": "code",
   "execution_count": 5,
   "id": "6a4fa5da",
   "metadata": {},
   "outputs": [
    {
     "name": "stdout",
     "output_type": "stream",
     "text": [
      "11\n"
     ]
    }
   ],
   "source": [
    "def getSum(a, b): #def getsum(a, b): 이것은 함수를 정의한 것이다.\n",
    "    sum = a + b # sum = a + b이다. \n",
    "    return sum # return sum은 a + b 덧셈 한 값을 반환값으로 반환한다.\n",
    "result = getSum(6, 5)\n",
    "# getSum(6, 5)에서 a + b = 11이 된다. sum = a + b 이므로 a=6 , b=5 이렇게 해서 11이다.\n",
    "print(result)"
   ]
  },
  {
   "cell_type": "code",
   "execution_count": 8,
   "id": "737e9e26",
   "metadata": {},
   "outputs": [
    {
     "data": {
      "text/plain": [
       "'안녕하세요!'"
      ]
     },
     "execution_count": 8,
     "metadata": {},
     "output_type": "execute_result"
    }
   ],
   "source": [
    "def say():\n",
    "    return \"안녕하세요!\"\n",
    "say()"
   ]
  },
  {
   "cell_type": "code",
   "execution_count": 12,
   "id": "443d2095",
   "metadata": {},
   "outputs": [
    {
     "name": "stdout",
     "output_type": "stream",
     "text": [
      "여보세요\n"
     ]
    }
   ],
   "source": [
    "def call():\n",
    "    return \"여보세요\"\n",
    "a = call()\n",
    "print(a)"
   ]
  },
  {
   "cell_type": "code",
   "execution_count": 5,
   "id": "fa71c660",
   "metadata": {},
   "outputs": [],
   "source": [
    "def cal(x,y):\n",
    "    result = x + y\n",
    "    return result\n",
    "    cal(4,5)\n",
    "    print(result)"
   ]
  },
  {
   "cell_type": "code",
   "execution_count": 7,
   "id": "0c29185f",
   "metadata": {},
   "outputs": [
    {
     "name": "stdout",
     "output_type": "stream",
     "text": [
      "-10\n",
      "10\n"
     ]
    }
   ],
   "source": [
    "number = -10\n",
    "print(-10)\n",
    "\n",
    "abs_number = abs(-10)\n",
    "print(abs_number) \n",
    "# number가 -10이므로 첫번째 출력은 print(-10) = -10 , abs_number = abs(-10) 인데 abs는 부호가 바뀌는 예약어이다.\n",
    "# 그러므로 print(abs_number) = print(abs(-10)) = 10 , 두번째 출력은 10이 된다."
   ]
  },
  {
   "cell_type": "code",
   "execution_count": null,
   "id": "b56b7a81",
   "metadata": {},
   "outputs": [],
   "source": []
  }
 ],
 "metadata": {
  "kernelspec": {
   "display_name": "Python 3 (ipykernel)",
   "language": "python",
   "name": "python3"
  },
  "language_info": {
   "codemirror_mode": {
    "name": "ipython",
    "version": 3
   },
   "file_extension": ".py",
   "mimetype": "text/x-python",
   "name": "python",
   "nbconvert_exporter": "python",
   "pygments_lexer": "ipython3",
   "version": "3.9.7"
  }
 },
 "nbformat": 4,
 "nbformat_minor": 5
}
