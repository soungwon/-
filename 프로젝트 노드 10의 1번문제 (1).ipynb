{
 "cells": [
  {
   "cell_type": "code",
   "execution_count": 1,
   "id": "a2ec7ca0",
   "metadata": {},
   "outputs": [
    {
     "data": {
      "text/plain": [
       "'070101-#######'"
      ]
     },
     "execution_count": 1,
     "metadata": {},
     "output_type": "execute_result"
    }
   ],
   "source": [
    "nums = '070101-1111111'\n",
    "\n",
    "def change_num(nums):\n",
    "    answer = nums.replace(nums[-7:], '070101-#######')\n",
    "    return answer \n",
    "\n",
    "change_num('')"
   ]
  }
 ],
 "metadata": {
  "kernelspec": {
   "display_name": "Python 3 (ipykernel)",
   "language": "python",
   "name": "python3"
  },
  "language_info": {
   "codemirror_mode": {
    "name": "ipython",
    "version": 3
   },
   "file_extension": ".py",
   "mimetype": "text/x-python",
   "name": "python",
   "nbconvert_exporter": "python",
   "pygments_lexer": "ipython3",
   "version": "3.9.7"
  }
 },
 "nbformat": 4,
 "nbformat_minor": 5
}
