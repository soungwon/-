{
 "cells": [
  {
   "cell_type": "code",
   "execution_count": 4,
   "id": "0f49386f",
   "metadata": {},
   "outputs": [],
   "source": [
    "# gugudan.py 파일\n",
    "def gugu2():\n",
    "    for i in range(1, 10):\n",
    "        print(\"{} * {} = {}\".format(2, i, 2 * i))"
   ]
  },
  {
   "cell_type": "code",
   "execution_count": 5,
   "id": "43eb9936",
   "metadata": {},
   "outputs": [
    {
     "ename": "ModuleNotFoundError",
     "evalue": "No module named 'gugudan'",
     "output_type": "error",
     "traceback": [
      "\u001b[0;31m---------------------------------------------------------------------------\u001b[0m",
      "\u001b[0;31mModuleNotFoundError\u001b[0m                       Traceback (most recent call last)",
      "\u001b[0;32m/tmp/ipykernel_31/1746562690.py\u001b[0m in \u001b[0;36m<module>\u001b[0;34m\u001b[0m\n\u001b[1;32m      5\u001b[0m         \u001b[0mprint\u001b[0m\u001b[0;34m(\u001b[0m\u001b[0;34m\"{} * {} = {}\"\u001b[0m\u001b[0;34m.\u001b[0m\u001b[0mformat\u001b[0m\u001b[0;34m(\u001b[0m\u001b[0;36m2\u001b[0m\u001b[0;34m,\u001b[0m \u001b[0mi\u001b[0m\u001b[0;34m,\u001b[0m \u001b[0;36m2\u001b[0m \u001b[0;34m*\u001b[0m \u001b[0mi\u001b[0m\u001b[0;34m)\u001b[0m\u001b[0;34m)\u001b[0m\u001b[0;34m\u001b[0m\u001b[0;34m\u001b[0m\u001b[0m\n\u001b[1;32m      6\u001b[0m \u001b[0;34m\u001b[0m\u001b[0m\n\u001b[0;32m----> 7\u001b[0;31m \u001b[0;32mimport\u001b[0m \u001b[0mgugudan\u001b[0m\u001b[0;34m\u001b[0m\u001b[0;34m\u001b[0m\u001b[0m\n\u001b[0m\u001b[1;32m      8\u001b[0m \u001b[0;34m\u001b[0m\u001b[0m\n\u001b[1;32m      9\u001b[0m \u001b[0mgugudan\u001b[0m\u001b[0;34m.\u001b[0m\u001b[0mgugu2\u001b[0m\u001b[0;34m(\u001b[0m\u001b[0;34m)\u001b[0m\u001b[0;34m\u001b[0m\u001b[0;34m\u001b[0m\u001b[0m\n",
      "\u001b[0;31mModuleNotFoundError\u001b[0m: No module named 'gugudan'"
     ]
    }
   ],
   "source": [
    "# practice.py 파일\n",
    "# gugudan.py 파일\n",
    "def gugu2():\n",
    "    for i in range(1, 10):\n",
    "        print(\"{} * {} = {}\".format(2, i, 2 * i))\n",
    "\n",
    "import gugudan\n",
    "\n",
    "gugudan.gugu2()"
   ]
  },
  {
   "cell_type": "code",
   "execution_count": 6,
   "id": "c0aaf15b",
   "metadata": {},
   "outputs": [
    {
     "name": "stdout",
     "output_type": "stream",
     "text": [
      "0.4960290018424395\n"
     ]
    }
   ],
   "source": [
    "import random\n",
    "print(random.random())"
   ]
  },
  {
   "cell_type": "code",
   "execution_count": 7,
   "id": "ed0d29bb",
   "metadata": {},
   "outputs": [
    {
     "name": "stdout",
     "output_type": "stream",
     "text": [
      "39\n"
     ]
    }
   ],
   "source": [
    "import random\n",
    "print(random.randint(1, 100))"
   ]
  },
  {
   "cell_type": "code",
   "execution_count": 8,
   "id": "013fa543",
   "metadata": {},
   "outputs": [
    {
     "name": "stdout",
     "output_type": "stream",
     "text": [
      "1671359415.9556615\n"
     ]
    }
   ],
   "source": [
    "import time\n",
    "print(time.time())"
   ]
  },
  {
   "cell_type": "code",
   "execution_count": 9,
   "id": "eeb5dc55",
   "metadata": {},
   "outputs": [
    {
     "name": "stdout",
     "output_type": "stream",
     "text": [
      "Sun Dec 18 10:30:40 2022\n"
     ]
    }
   ],
   "source": [
    "import time\n",
    "print(time.ctime())"
   ]
  },
  {
   "cell_type": "code",
   "execution_count": 11,
   "id": "fd127602",
   "metadata": {},
   "outputs": [
    {
     "name": "stdout",
     "output_type": "stream",
     "text": [
      "10초 뒤에 시작됩니다.\n",
      "hello world\n"
     ]
    }
   ],
   "source": [
    "import time\n",
    "print(\"10초 뒤에 시작됩니다.\")\n",
    "time.sleep(10)\n",
    "print(\"hello world\")\n"
   ]
  },
  {
   "cell_type": "markdown",
   "id": "426281d8",
   "metadata": {},
   "source": [
    "# if 문장의 마지막에 콜론(:)이 빠져 구문 오류가 발생합니다.                                          숫자를 0으로 나누어 'zerodivisionerror라는 런타임 오류가 발생합니다.                    연산자 우선순위에 따라 덧셈보다 나눗셈이 먼저 실행됩니다. 따라서 b / 2가 먼저      실행된 후 거기에 a를 더한 값이 average 변수에 저장됩니다.                                        이러한 논리 오류를 해결하려면 '(a + b) / 2' 이렇게 해야 한다."
   ]
  },
  {
   "cell_type": "code",
   "execution_count": 13,
   "id": "9dab1335",
   "metadata": {},
   "outputs": [
    {
     "name": "stdout",
     "output_type": "stream",
     "text": [
      "첫 번째 숫자를 입력하세요.:4\n",
      "두 번째 숫자를 입력하세요.:3\n",
      "1.3333333333333333\n"
     ]
    }
   ],
   "source": [
    "x = int(input(\"첫 번째 숫자를 입력하세요.:\"))\n",
    "y = int(input(\"두 번째 숫자를 입력하세요.:\"))\n",
    "print(x / y)"
   ]
  },
  {
   "cell_type": "code",
   "execution_count": 14,
   "id": "9106bddb",
   "metadata": {},
   "outputs": [
    {
     "name": "stdout",
     "output_type": "stream",
     "text": [
      "첫 번째 숫자를 입력하세요.:4\n",
      "두 번째 숫자를 입력하세요.:0\n"
     ]
    },
    {
     "ename": "ZeroDivisionError",
     "evalue": "division by zero",
     "output_type": "error",
     "traceback": [
      "\u001b[0;31m---------------------------------------------------------------------------\u001b[0m",
      "\u001b[0;31mZeroDivisionError\u001b[0m                         Traceback (most recent call last)",
      "\u001b[0;32m/tmp/ipykernel_31/1128453844.py\u001b[0m in \u001b[0;36m<module>\u001b[0;34m\u001b[0m\n\u001b[1;32m      1\u001b[0m \u001b[0mx\u001b[0m \u001b[0;34m=\u001b[0m \u001b[0mint\u001b[0m\u001b[0;34m(\u001b[0m\u001b[0minput\u001b[0m\u001b[0;34m(\u001b[0m\u001b[0;34m\"첫 번째 숫자를 입력하세요.:\"\u001b[0m\u001b[0;34m)\u001b[0m\u001b[0;34m)\u001b[0m\u001b[0;34m\u001b[0m\u001b[0;34m\u001b[0m\u001b[0m\n\u001b[1;32m      2\u001b[0m \u001b[0my\u001b[0m \u001b[0;34m=\u001b[0m \u001b[0mint\u001b[0m\u001b[0;34m(\u001b[0m\u001b[0minput\u001b[0m\u001b[0;34m(\u001b[0m\u001b[0;34m\"두 번째 숫자를 입력하세요.:\"\u001b[0m\u001b[0;34m)\u001b[0m\u001b[0;34m)\u001b[0m\u001b[0;34m\u001b[0m\u001b[0;34m\u001b[0m\u001b[0m\n\u001b[0;32m----> 3\u001b[0;31m \u001b[0mprint\u001b[0m\u001b[0;34m(\u001b[0m\u001b[0mx\u001b[0m \u001b[0;34m/\u001b[0m \u001b[0my\u001b[0m\u001b[0;34m)\u001b[0m\u001b[0;34m\u001b[0m\u001b[0;34m\u001b[0m\u001b[0m\n\u001b[0m",
      "\u001b[0;31mZeroDivisionError\u001b[0m: division by zero"
     ]
    }
   ],
   "source": [
    "x = int(input(\"첫 번째 숫자를 입력하세요.:\"))\n",
    "y = int(input(\"두 번째 숫자를 입력하세요.:\"))\n",
    "print(x / y)\n",
    "# 프로그램에서는 0으로 나누면 오류가 발생합니다."
   ]
  },
  {
   "cell_type": "code",
   "execution_count": 15,
   "id": "3398d7bd",
   "metadata": {},
   "outputs": [
    {
     "name": "stdout",
     "output_type": "stream",
     "text": [
      "첫 번째 숫자를 입력하세요.:4\n",
      "두 번째 숫자를 입력하세요.:3\n",
      "1.3333333333333333\n"
     ]
    }
   ],
   "source": [
    "try:\n",
    "    x = int(input(\"첫 번째 숫자를 입력하세요.:\"))\n",
    "    y = int(input(\"두 번째 숫자를 입력하세요.:\"))\n",
    "    print(x / y)\n",
    "except:\n",
    "    print(\"오류가 발생했습니다. 다시 시도 해주세요.\")"
   ]
  },
  {
   "cell_type": "code",
   "execution_count": 16,
   "id": "35cf2804",
   "metadata": {},
   "outputs": [
    {
     "name": "stdout",
     "output_type": "stream",
     "text": [
      "첫 번째 숫자를 입력하세요.:4\n",
      "두 번째 숫자를 입력하세요.:0\n",
      "오류가 발생했습니다. 다시 시도 해주세요.\n"
     ]
    }
   ],
   "source": [
    "try:\n",
    "    x = int(input(\"첫 번째 숫자를 입력하세요.:\"))\n",
    "    y = int(input(\"두 번째 숫자를 입력하세요.:\"))\n",
    "    print(x / y)\n",
    "except:\n",
    "    print(\"오류가 발생했습니다. 다시 시도 해주세요.\")"
   ]
  },
  {
   "cell_type": "code",
   "execution_count": 17,
   "id": "ad118b0d",
   "metadata": {},
   "outputs": [
    {
     "name": "stdout",
     "output_type": "stream",
     "text": [
      "인덱스를 입력하세요.:3\n"
     ]
    },
    {
     "ename": "IndexError",
     "evalue": "list index out of range",
     "output_type": "error",
     "traceback": [
      "\u001b[0;31m---------------------------------------------------------------------------\u001b[0m",
      "\u001b[0;31mIndexError\u001b[0m                                Traceback (most recent call last)",
      "\u001b[0;32m/tmp/ipykernel_31/1254880019.py\u001b[0m in \u001b[0;36m<module>\u001b[0;34m\u001b[0m\n\u001b[1;32m      1\u001b[0m \u001b[0mx\u001b[0m \u001b[0;34m=\u001b[0m \u001b[0;34m[\u001b[0m\u001b[0;36m10\u001b[0m\u001b[0;34m,\u001b[0m \u001b[0;36m20\u001b[0m\u001b[0;34m,\u001b[0m \u001b[0;36m30\u001b[0m\u001b[0;34m]\u001b[0m\u001b[0;34m\u001b[0m\u001b[0;34m\u001b[0m\u001b[0m\n\u001b[1;32m      2\u001b[0m \u001b[0mindex\u001b[0m \u001b[0;34m=\u001b[0m \u001b[0mint\u001b[0m\u001b[0;34m(\u001b[0m\u001b[0minput\u001b[0m\u001b[0;34m(\u001b[0m\u001b[0;34m\"인덱스를 입력하세요.:\"\u001b[0m\u001b[0;34m)\u001b[0m\u001b[0;34m)\u001b[0m\u001b[0;34m\u001b[0m\u001b[0;34m\u001b[0m\u001b[0m\n\u001b[0;32m----> 3\u001b[0;31m \u001b[0mnum\u001b[0m \u001b[0;34m=\u001b[0m \u001b[0mx\u001b[0m\u001b[0;34m[\u001b[0m\u001b[0mindex\u001b[0m\u001b[0;34m]\u001b[0m\u001b[0;34m\u001b[0m\u001b[0;34m\u001b[0m\u001b[0m\n\u001b[0m\u001b[1;32m      4\u001b[0m \u001b[0my\u001b[0m \u001b[0;34m=\u001b[0m \u001b[0mint\u001b[0m\u001b[0;34m(\u001b[0m\u001b[0minput\u001b[0m\u001b[0;34m(\u001b[0m\u001b[0;34m\"나눌 숫자를 입력하세요.:\"\u001b[0m\u001b[0;34m)\u001b[0m\u001b[0;34m)\u001b[0m\u001b[0;34m\u001b[0m\u001b[0;34m\u001b[0m\u001b[0m\n\u001b[1;32m      5\u001b[0m \u001b[0mprint\u001b[0m\u001b[0;34m(\u001b[0m\u001b[0mnum\u001b[0m\u001b[0;34m/\u001b[0m \u001b[0my\u001b[0m\u001b[0;34m)\u001b[0m\u001b[0;34m\u001b[0m\u001b[0;34m\u001b[0m\u001b[0m\n",
      "\u001b[0;31mIndexError\u001b[0m: list index out of range"
     ]
    }
   ],
   "source": [
    "x = [10, 20, 30]\n",
    "index = int(input(\"인덱스를 입력하세요.:\"))\n",
    "num = x[index]\n",
    "y = int(input(\"나눌 숫자를 입력하세요.:\"))\n",
    "print(num/ y)"
   ]
  },
  {
   "cell_type": "code",
   "execution_count": 18,
   "id": "c4c78639",
   "metadata": {},
   "outputs": [
    {
     "name": "stdout",
     "output_type": "stream",
     "text": [
      "인덱스를 입력하세요.:2\n",
      "나눌 숫자를 입력하세요.:1\n",
      "30.0\n"
     ]
    }
   ],
   "source": [
    "x = [10, 20, 30]\n",
    "index = int(input(\"인덱스를 입력하세요.:\"))\n",
    "num = x[index]\n",
    "y = int(input(\"나눌 숫자를 입력하세요.:\"))\n",
    "print(num/ y)"
   ]
  },
  {
   "cell_type": "code",
   "execution_count": 29,
   "id": "94d18e7d",
   "metadata": {},
   "outputs": [
    {
     "name": "stdout",
     "output_type": "stream",
     "text": [
      "인덱스를 입력하세요. : 2\n",
      "나눌 숫자를 입력하세요. : 0\n",
      "숫자를 0으로 나눌 수 없습니다.\n"
     ]
    }
   ],
   "source": [
    "x = [10, 20, 30]\n",
    "try:\n",
    "    index = int(input(\"인덱스를 입력하세요. : \")) # . 입력후 spacebar :\n",
    "    num = x[index]\n",
    "    y = int(input(\"나눌 숫자를 입력하세요. : \"))  # . 입력후 spacebar :\n",
    "    print(num / y)\n",
    "except IndexError:\n",
    "    print(\"인덱스는 0부터 2까지 가능합니다.\")\n",
    "except ZeroDivisionError:\n",
    "    print(\"숫자를 0으로 나눌 수 없습니다.\")"
   ]
  },
  {
   "cell_type": "code",
   "execution_count": 30,
   "id": "5deec097",
   "metadata": {},
   "outputs": [
    {
     "name": "stdout",
     "output_type": "stream",
     "text": [
      "나눌 숫자 입력:0\n",
      "예외가 발생했습니다.\n"
     ]
    }
   ],
   "source": [
    "try:\n",
    "    x = int(input('나눌 숫자 입력:'))\n",
    "    y = 10 / x\n",
    "    print(y)\n",
    "except:\n",
    "    print('예외가 발생했습니다.')"
   ]
  },
  {
   "cell_type": "markdown",
   "id": "f19569bb",
   "metadata": {},
   "source": [
    "# 오류가 발생했을때 프로그램이 종료되지 않고 출력문이 출력되도록 예외 처리한 프로그램입니다. 예외처리를 할 때는 try 안에 기본 실행문을 적고, except 안에 오류 발생 시 출력될 실행문을 적어야 합니다."
   ]
  },
  {
   "cell_type": "code",
   "execution_count": 31,
   "id": "f2bdfa88",
   "metadata": {},
   "outputs": [],
   "source": [
    "import random"
   ]
  },
  {
   "cell_type": "code",
   "execution_count": 32,
   "id": "e91293bf",
   "metadata": {},
   "outputs": [
    {
     "name": "stdout",
     "output_type": "stream",
     "text": [
      "오류 발생\n"
     ]
    }
   ],
   "source": [
    "try:\n",
    "    a = [1, 3, 4]\n",
    "    print(a[3])\n",
    "except:\n",
    "    print(\"오류 발생\")"
   ]
  },
  {
   "cell_type": "markdown",
   "id": "98762773",
   "metadata": {},
   "source": [
    "# a는 3개의 요소를 가진 배열이므로 0,1,2 인덱스로 값에 접근할 수 있습니다. 따라서 a[3]을 실행하면 오류가 발생합니다. try, except로 예외 처리를 한 코드입니다. 오류가 발생했기 때문에 except 안의 출력문이 실행됩니다."
   ]
  },
  {
   "cell_type": "code",
   "execution_count": 34,
   "id": "65f549f9",
   "metadata": {},
   "outputs": [
    {
     "name": "stdout",
     "output_type": "stream",
     "text": [
      "0 a\n",
      "1 b\n",
      "2 c\n",
      "3 d\n",
      "4 e\n"
     ]
    }
   ],
   "source": [
    "for index, value in enumerate(['a', 'b', 'c', 'd', 'e']):\n",
    "    print(index, value)"
   ]
  },
  {
   "cell_type": "code",
   "execution_count": 35,
   "id": "127df635",
   "metadata": {},
   "outputs": [
    {
     "name": "stdout",
     "output_type": "stream",
     "text": [
      "4\n",
      "3.5\n"
     ]
    }
   ],
   "source": [
    "print(round(3.52))\n",
    "print(round(3.52, 1))"
   ]
  },
  {
   "cell_type": "markdown",
   "id": "b3eeba1b",
   "metadata": {},
   "source": [
    "# 1번 줄: round()에 실수 하나만 넣으면 해당 숫자를 정수로 반올림 합니다.                   2번 줄: 숫자를 두 개 넣을 때 첫 번째 숫자는 반올림할 숫자이고, 두 번째 숫자는         반올림할 자릿수(소수점 아래 자릿수)를 나타내는 숫자이다. 따라서 round(3.52,1)     은 소수점 아래 일의 자리까지 반올림해서 표시하므로 결과는 3.5가 됩니다."
   ]
  },
  {
   "cell_type": "code",
   "execution_count": 36,
   "id": "5736fb33",
   "metadata": {},
   "outputs": [
    {
     "name": "stdout",
     "output_type": "stream",
     "text": [
      "[4, 2]\n"
     ]
    }
   ],
   "source": [
    "def isEven(num):\n",
    "    return num % 2 == 0\n",
    "filtered = list(filter(isEven, [1, 3, 4, 2, 5, 3]))\n",
    "print(filtered)"
   ]
  },
  {
   "cell_type": "markdown",
   "id": "f47105a9",
   "metadata": {},
   "source": [
    "# 1,2번 줄 : 숫자가 짝수인지 아닌지를 반환하는 isEven() 함수를 정의합니다.\n",
    "# 3번줄: filter() 함수에 isEven() 함수와 [1, 3, 4, 2, 5, 3]을 인풋으로 넣습니다.           filter() 함수는 데이터를 순서대로 반복하며 isEven() 함수를 실행하고 그 반환값이      참인 데이터만 반환합니다. 그것을 리스트 형태로 만들기 위해 filter() 함수 전체를        list()로 감쌉니다."
   ]
  },
  {
   "cell_type": "code",
   "execution_count": 37,
   "id": "d5d6a4bf",
   "metadata": {},
   "outputs": [
    {
     "name": "stdout",
     "output_type": "stream",
     "text": [
      "[2, 6, 8, 4, 10, 6]\n"
     ]
    }
   ],
   "source": [
    "def multiply(num):\n",
    "    return num * 2\n",
    "mapped = list(map(multiply,[1, 3, 4, 2, 5, 3]))\n",
    "print(mapped)"
   ]
  },
  {
   "cell_type": "markdown",
   "id": "f7f11fef",
   "metadata": {},
   "source": [
    "# 1,2번줄 : 숫자에 2를 곱해 반환하는 multiply() 함수를 정의합니다.\n",
    "# 3번줄 : map() 함수에 multiply() 함수와 [1, 3, 4, 2, 5, 3]을 인풋으로 넣습니다.            map() 함수는 데이터를 순서대로 반복하며 multiply() 함수를 실행하고 그 반환값을    모두 묶어 반환합니다. 그것을 리스트 형태로 만들고 위해 map() 함수 전체를              list()로 감쌉니다.\n"
   ]
  }
 ],
 "metadata": {
  "kernelspec": {
   "display_name": "Python 3 (ipykernel)",
   "language": "python",
   "name": "python3"
  },
  "language_info": {
   "codemirror_mode": {
    "name": "ipython",
    "version": 3
   },
   "file_extension": ".py",
   "mimetype": "text/x-python",
   "name": "python",
   "nbconvert_exporter": "python",
   "pygments_lexer": "ipython3",
   "version": "3.9.7"
  }
 },
 "nbformat": 4,
 "nbformat_minor": 5
}
